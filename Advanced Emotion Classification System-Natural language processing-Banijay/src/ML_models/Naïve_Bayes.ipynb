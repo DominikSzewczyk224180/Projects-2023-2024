{
 "cells": [
  {
   "cell_type": "code",
   "execution_count": 1,
   "metadata": {},
   "outputs": [],
   "source": [
    "import matplotlib.pyplot as plt\n",
    "import numpy as np\n",
    "import pandas as pd\n",
    "\n",
    "\n",
    "import random\n",
    "import re                                  \n",
    "import string  \n",
    "\n",
    "import nltk\n",
    "\n",
    "import re\n",
    "from nltk.tokenize import word_tokenize\n",
    "from nltk.corpus import stopwords\n",
    "from nltk.stem import PorterStemmer"
   ]
  },
  {
   "cell_type": "code",
   "execution_count": 2,
   "metadata": {},
   "outputs": [],
   "source": [
    "simplified_emotions = pd.read_csv(r\"C:\\Users\\domin\\Desktop\\Year 2 Block C\\2023-24c-fai2-adsai-DominikSzewczyk224180\\Datasets\\simplified_emotions.csv\")"
   ]
  },
  {
   "cell_type": "code",
   "execution_count": 3,
   "metadata": {},
   "outputs": [
    {
     "data": {
      "text/html": [
       "<div>\n",
       "<style scoped>\n",
       "    .dataframe tbody tr th:only-of-type {\n",
       "        vertical-align: middle;\n",
       "    }\n",
       "\n",
       "    .dataframe tbody tr th {\n",
       "        vertical-align: top;\n",
       "    }\n",
       "\n",
       "    .dataframe thead th {\n",
       "        text-align: right;\n",
       "    }\n",
       "</style>\n",
       "<table border=\"1\" class=\"dataframe\">\n",
       "  <thead>\n",
       "    <tr style=\"text-align: right;\">\n",
       "      <th></th>\n",
       "      <th>sentence</th>\n",
       "      <th>emotion</th>\n",
       "    </tr>\n",
       "  </thead>\n",
       "  <tbody>\n",
       "    <tr>\n",
       "      <th>0</th>\n",
       "      <td>What?</td>\n",
       "      <td>other</td>\n",
       "    </tr>\n",
       "    <tr>\n",
       "      <th>1</th>\n",
       "      <td>Hey!</td>\n",
       "      <td>happiness</td>\n",
       "    </tr>\n",
       "    <tr>\n",
       "      <th>2</th>\n",
       "      <td>Where?!</td>\n",
       "      <td>other</td>\n",
       "    </tr>\n",
       "    <tr>\n",
       "      <th>3</th>\n",
       "      <td>No, I know!</td>\n",
       "      <td>other</td>\n",
       "    </tr>\n",
       "    <tr>\n",
       "      <th>4</th>\n",
       "      <td>Well! Well! Well! Joey Tribbiani! So you came ...</td>\n",
       "      <td>other</td>\n",
       "    </tr>\n",
       "    <tr>\n",
       "      <th>...</th>\n",
       "      <td>...</td>\n",
       "      <td>...</td>\n",
       "    </tr>\n",
       "    <tr>\n",
       "      <th>96725</th>\n",
       "      <td>I am glad that you have been happy with my per...</td>\n",
       "      <td>other</td>\n",
       "    </tr>\n",
       "    <tr>\n",
       "      <th>96726</th>\n",
       "      <td>That sounds fair .</td>\n",
       "      <td>other</td>\n",
       "    </tr>\n",
       "    <tr>\n",
       "      <th>96727</th>\n",
       "      <td>Lindsay , of course , I will be more than happ...</td>\n",
       "      <td>other</td>\n",
       "    </tr>\n",
       "    <tr>\n",
       "      <th>96728</th>\n",
       "      <td>It's hard for us to believe it . Our instrumen...</td>\n",
       "      <td>other</td>\n",
       "    </tr>\n",
       "    <tr>\n",
       "      <th>96729</th>\n",
       "      <td>you're welcome .</td>\n",
       "      <td>other</td>\n",
       "    </tr>\n",
       "  </tbody>\n",
       "</table>\n",
       "<p>96730 rows × 2 columns</p>\n",
       "</div>"
      ],
      "text/plain": [
       "                                                sentence    emotion\n",
       "0                                                  What?      other\n",
       "1                                                   Hey!  happiness\n",
       "2                                                Where?!      other\n",
       "3                                            No, I know!      other\n",
       "4      Well! Well! Well! Joey Tribbiani! So you came ...      other\n",
       "...                                                  ...        ...\n",
       "96725  I am glad that you have been happy with my per...      other\n",
       "96726                                 That sounds fair .      other\n",
       "96727  Lindsay , of course , I will be more than happ...      other\n",
       "96728  It's hard for us to believe it . Our instrumen...      other\n",
       "96729                                   you're welcome .      other\n",
       "\n",
       "[96730 rows x 2 columns]"
      ]
     },
     "execution_count": 3,
     "metadata": {},
     "output_type": "execute_result"
    }
   ],
   "source": [
    "simplified_emotions"
   ]
  },
  {
   "cell_type": "code",
   "execution_count": 4,
   "metadata": {},
   "outputs": [],
   "source": [
    "happiness_df = simplified_emotions[simplified_emotions['emotion'] == 'happiness']\n",
    "other_df = simplified_emotions[simplified_emotions['emotion'] != 'happiness']"
   ]
  },
  {
   "cell_type": "code",
   "execution_count": 5,
   "metadata": {},
   "outputs": [
    {
     "name": "stderr",
     "output_type": "stream",
     "text": [
      "[nltk_data] Downloading package punkt to\n",
      "[nltk_data]     C:\\Users\\domin\\AppData\\Roaming\\nltk_data...\n",
      "[nltk_data]   Package punkt is already up-to-date!\n",
      "[nltk_data] Downloading package stopwords to\n",
      "[nltk_data]     C:\\Users\\domin\\AppData\\Roaming\\nltk_data...\n",
      "[nltk_data]   Package stopwords is already up-to-date!\n"
     ]
    },
    {
     "data": {
      "text/plain": [
       "True"
      ]
     },
     "execution_count": 5,
     "metadata": {},
     "output_type": "execute_result"
    }
   ],
   "source": [
    "nltk.download('punkt')\n",
    "nltk.download('stopwords')"
   ]
  },
  {
   "cell_type": "code",
   "execution_count": 6,
   "metadata": {},
   "outputs": [],
   "source": [
    "def sentence_processor(sentence):\n",
    "    sentence = re.sub(r'http\\S+', '', sentence)\n",
    "\n",
    "    sentence = sentence.replace('#', '')\n",
    "\n",
    "    tokenizer = word_tokenize\n",
    "\n",
    "    processed_sentence = tokenizer(sentence)\n",
    "\n",
    "    stopwords_english = set(stopwords.words('english'))\n",
    "    processed_sentence = [word for word in processed_sentence if word.lower() not in stopwords_english]\n",
    "\n",
    "    processed_sentence = [word for word in processed_sentence if word.lower() not in string.punctuation]\n",
    "\n",
    "    stemmer = PorterStemmer()\n",
    "    processed_sentence = [stemmer.stem(word) for word in processed_sentence]\n",
    "\n",
    "    return processed_sentence"
   ]
  },
  {
   "cell_type": "code",
   "execution_count": 7,
   "metadata": {},
   "outputs": [
    {
     "data": {
      "text/plain": [
       "['ok', 'get', 'like', 'said', 'differ', 'moral']"
      ]
     },
     "execution_count": 7,
     "metadata": {},
     "output_type": "execute_result"
    }
   ],
   "source": [
    "sentence_processor(\"Ok I get that, like I said, different morals\")"
   ]
  },
  {
   "cell_type": "code",
   "execution_count": 8,
   "metadata": {},
   "outputs": [],
   "source": [
    "def sentence_processor_df(df):\n",
    "    processed_sentences_list = []\n",
    "    for sentence in df['sentence']:\n",
    "        processed_sentence = sentence_processor(sentence)\n",
    "        processed_sentences_list.append(processed_sentence)\n",
    "    return processed_sentences_list"
   ]
  },
  {
   "cell_type": "code",
   "execution_count": 9,
   "metadata": {},
   "outputs": [],
   "source": [
    "from sklearn.model_selection import train_test_split\n",
    "\n",
    "happy_sentences_tr, happy_sentences_te = train_test_split(happiness_df, test_size=0.2, random_state=42)\n",
    "\n",
    "happy_sentences_tr = sentence_processor_df(happy_sentences_tr)\n",
    "happy_sentences_te = sentence_processor_df(happy_sentences_te)\n",
    "\n",
    "other_sentences_tr, other_sentences_te = train_test_split(other_df, test_size=0.2, random_state=42)\n",
    "\n",
    "other_sentences_tr = sentence_processor_df(other_sentences_tr)\n",
    "other_sentences_te = sentence_processor_df(other_sentences_te)"
   ]
  },
  {
   "cell_type": "code",
   "execution_count": 10,
   "metadata": {},
   "outputs": [
    {
     "name": "stdout",
     "output_type": "stream",
     "text": [
      "17689\n",
      "[\"''\", \"'1000\", \"'14\", \"'76\", \"'albino\", \"'all\", \"'alon\", \"'aloof\", \"'at\", \"'belli\", \"'between\", \"'big\", \"'blanket\", \"'bout\", \"'breast\", \"'brother\", \"'bug\", \"'build\", \"'bungl\", \"'buri\", \"'caus\", \"'cause-oh\", \"'cha\", \"'confid\", \"'cool\", \"'d\", \"'dear\", \"'despair\", \"'did\", \"'do\", \"'doe\", \"'down\", \"'eddi\", \"'em\", \"'emot\", \"'etern\", \"'excus\", \"'favourit\", \"'flaign\", \"'for\", \"'friend\", \"'galaxy-brain\", \"'gershwin\", \"'gift\", \"'good\", \"'good-by\", \"'ha\", \"'hate\", \"'have\", \"'heav\"]\n"
     ]
    }
   ],
   "source": [
    "vocabulary_all = other_sentences_tr + happy_sentences_tr\n",
    "\n",
    "def getUniqueTokens(vocabulary_all):\n",
    "    unique_vocabulary = []\n",
    "    for tweet_tokens in vocabulary_all:\n",
    "        for token in tweet_tokens:\n",
    "            if token not in unique_vocabulary:\n",
    "                unique_vocabulary.append(token)\n",
    "    return unique_vocabulary\n",
    "\n",
    "vocabulary = getUniqueTokens(vocabulary_all)\n",
    "vocabulary.sort()\n",
    "\n",
    "print(len(vocabulary))\n",
    "print(vocabulary[:50])"
   ]
  },
  {
   "cell_type": "code",
   "execution_count": 11,
   "metadata": {},
   "outputs": [],
   "source": [
    "freqs = {}\n",
    "\n",
    "for token in vocabulary:\n",
    "    count_positive = sum(1 for tweet_tokens in happy_sentences_tr + happy_sentences_te if token in tweet_tokens)\n",
    "    count_negative = sum(1 for tweet_tokens in other_sentences_tr + other_sentences_te if token in tweet_tokens)\n",
    "    freqs[token] = [count_positive, count_negative]"
   ]
  },
  {
   "cell_type": "code",
   "execution_count": 12,
   "metadata": {},
   "outputs": [
    {
     "data": {
      "text/html": [
       "<div>\n",
       "<style scoped>\n",
       "    .dataframe tbody tr th:only-of-type {\n",
       "        vertical-align: middle;\n",
       "    }\n",
       "\n",
       "    .dataframe tbody tr th {\n",
       "        vertical-align: top;\n",
       "    }\n",
       "\n",
       "    .dataframe thead th {\n",
       "        text-align: right;\n",
       "    }\n",
       "</style>\n",
       "<table border=\"1\" class=\"dataframe\">\n",
       "  <thead>\n",
       "    <tr style=\"text-align: right;\">\n",
       "      <th></th>\n",
       "      <th>count(w_i, +)</th>\n",
       "      <th>count(w_i, -)</th>\n",
       "    </tr>\n",
       "  </thead>\n",
       "  <tbody>\n",
       "    <tr>\n",
       "      <th>''</th>\n",
       "      <td>273</td>\n",
       "      <td>1283</td>\n",
       "    </tr>\n",
       "    <tr>\n",
       "      <th>'1000</th>\n",
       "      <td>1</td>\n",
       "      <td>1</td>\n",
       "    </tr>\n",
       "    <tr>\n",
       "      <th>'14</th>\n",
       "      <td>1</td>\n",
       "      <td>1</td>\n",
       "    </tr>\n",
       "    <tr>\n",
       "      <th>'76</th>\n",
       "      <td>1</td>\n",
       "      <td>1</td>\n",
       "    </tr>\n",
       "    <tr>\n",
       "      <th>'albino</th>\n",
       "      <td>0</td>\n",
       "      <td>2</td>\n",
       "    </tr>\n",
       "    <tr>\n",
       "      <th>'all</th>\n",
       "      <td>0</td>\n",
       "      <td>2</td>\n",
       "    </tr>\n",
       "    <tr>\n",
       "      <th>'alon</th>\n",
       "      <td>0</td>\n",
       "      <td>2</td>\n",
       "    </tr>\n",
       "    <tr>\n",
       "      <th>'aloof</th>\n",
       "      <td>0</td>\n",
       "      <td>2</td>\n",
       "    </tr>\n",
       "    <tr>\n",
       "      <th>'at</th>\n",
       "      <td>0</td>\n",
       "      <td>2</td>\n",
       "    </tr>\n",
       "    <tr>\n",
       "      <th>'belli</th>\n",
       "      <td>0</td>\n",
       "      <td>2</td>\n",
       "    </tr>\n",
       "  </tbody>\n",
       "</table>\n",
       "</div>"
      ],
      "text/plain": [
       "         count(w_i, +)  count(w_i, -)\n",
       "''                 273           1283\n",
       "'1000                1              1\n",
       "'14                  1              1\n",
       "'76                  1              1\n",
       "'albino              0              2\n",
       "'all                 0              2\n",
       "'alon                0              2\n",
       "'aloof               0              2\n",
       "'at                  0              2\n",
       "'belli               0              2"
      ]
     },
     "execution_count": 12,
     "metadata": {},
     "output_type": "execute_result"
    }
   ],
   "source": [
    "df = pd.DataFrame.from_dict(freqs, orient='index', columns=['count(w_i, +)', 'count(w_i, -)'])\n",
    "df.head(10)"
   ]
  },
  {
   "cell_type": "code",
   "execution_count": 13,
   "metadata": {},
   "outputs": [
    {
     "name": "stdout",
     "output_type": "stream",
     "text": [
      "         count(w_i, +)  count(w_i, -)  P(w_i|+)  P(w_i|-)\n",
      "''                 273           1283  0.001861  0.002865\n",
      "'1000                1              1  0.000007  0.000002\n",
      "'14                  1              1  0.000007  0.000002\n",
      "'76                  1              1  0.000007  0.000002\n",
      "'albino              0              2  0.000000  0.000004\n"
     ]
    }
   ],
   "source": [
    "total_positive = df['count(w_i, +)'].sum()\n",
    "total_negative = df['count(w_i, -)'].sum()\n",
    "\n",
    "df['P(w_i|+)'] = df['count(w_i, +)'] / total_positive\n",
    "df['P(w_i|-)'] = df['count(w_i, -)'] / total_negative\n",
    "\n",
    "print(df.head())"
   ]
  },
  {
   "cell_type": "code",
   "execution_count": 14,
   "metadata": {},
   "outputs": [
    {
     "name": "stdout",
     "output_type": "stream",
     "text": [
      "         count(w_i, +)  count(w_i, -)  P(w_i|+)  P(w_i|-)  P(w_i|+) smooth  \\\n",
      "''                 273           1283  0.001861  0.002865         0.001667   \n",
      "'1000                1              1  0.000007  0.000002         0.000012   \n",
      "'14                  1              1  0.000007  0.000002         0.000012   \n",
      "'76                  1              1  0.000007  0.000002         0.000012   \n",
      "'albino              0              2  0.000000  0.000004         0.000006   \n",
      "\n",
      "         P(w_i|-) smooth  \n",
      "''              0.002758  \n",
      "'1000           0.000004  \n",
      "'14             0.000004  \n",
      "'76             0.000004  \n",
      "'albino         0.000006  \n"
     ]
    }
   ],
   "source": [
    "smooth_factor = len(vocabulary)\n",
    "\n",
    "df['P(w_i|+) smooth'] = (df['count(w_i, +)'] + 1) / (total_positive + smooth_factor)\n",
    "df['P(w_i|-) smooth'] = (df['count(w_i, -)'] + 1) / (total_negative + smooth_factor)\n",
    "\n",
    "print(df.head())"
   ]
  },
  {
   "cell_type": "code",
   "execution_count": 15,
   "metadata": {},
   "outputs": [
    {
     "name": "stdout",
     "output_type": "stream",
     "text": [
      "1.1079201763808015 3.266719430154333\n"
     ]
    }
   ],
   "source": [
    "# YOUR CODE HERE #\n",
    "Ndoc = len(vocabulary)\n",
    "\n",
    "\n",
    "# df[\"P(+)\"] = (df['count(w_i, +)'] + 1) / Ndoc \n",
    "# df[\"P(-)\"] = (df['count(w_i, -)'] + 1) / Ndoc \n",
    "# print(df.head())\n",
    "\n",
    "p_pos = len(happy_sentences_tr ) / Ndoc\n",
    "p_neg = len(other_sentences_tr ) / Ndoc\n",
    "\n",
    "print(p_pos,p_neg)"
   ]
  },
  {
   "cell_type": "code",
   "execution_count": 16,
   "metadata": {},
   "outputs": [
    {
     "name": "stdout",
     "output_type": "stream",
     "text": [
      "['realli', 'worri', 'nisa', 'translat', 'point', \"n't\", 'care', 'long', 'get', 'english', 'version']\n"
     ]
    }
   ],
   "source": [
    "tw = other_sentences_te[3]\n",
    "print(tw)"
   ]
  },
  {
   "cell_type": "code",
   "execution_count": 17,
   "metadata": {},
   "outputs": [],
   "source": [
    "\n",
    "prob_pos = 1\n",
    "prob_neg = 1\n",
    "\n",
    "for token in tw:\n",
    "\n",
    "    if token in df.index:\n",
    "      \n",
    "        prob_pos *= df.loc[token, 'P(w_i|+) smooth']\n",
    "       \n",
    "        prob_neg *= df.loc[token, 'P(w_i|-) smooth']"
   ]
  },
  {
   "cell_type": "code",
   "execution_count": 18,
   "metadata": {},
   "outputs": [
    {
     "name": "stdout",
     "output_type": "stream",
     "text": [
      "Class negative\n"
     ]
    }
   ],
   "source": [
    "if prob_pos > prob_neg:\n",
    "    print('Class positive')\n",
    "else:\n",
    "    print('Class negative')"
   ]
  },
  {
   "cell_type": "code",
   "execution_count": 19,
   "metadata": {},
   "outputs": [
    {
     "name": "stdout",
     "output_type": "stream",
     "text": [
      "         count(w_i, +)  count(w_i, -)  P(w_i|+)  P(w_i|-)  P(w_i|+) smooth  \\\n",
      "''                 273           1283  0.001861  0.002865         0.001667   \n",
      "'1000                1              1  0.000007  0.000002         0.000012   \n",
      "'14                  1              1  0.000007  0.000002         0.000012   \n",
      "'76                  1              1  0.000007  0.000002         0.000012   \n",
      "'albino              0              2  0.000000  0.000004         0.000006   \n",
      "\n",
      "         P(w_i|-) smooth  log(P(w_i|+) smooth)  log(P(w_i|-) smooth)  \n",
      "''              0.002758             -6.396674             -5.893123  \n",
      "'1000           0.000004            -11.316655            -12.357712  \n",
      "'14             0.000004            -11.316655            -12.357712  \n",
      "'76             0.000004            -11.316655            -12.357712  \n",
      "'albino         0.000006            -12.009802            -11.952246  \n"
     ]
    }
   ],
   "source": [
    "df['log(P(w_i|+) smooth)'] = np.log(df['P(w_i|+) smooth'])\n",
    "df['log(P(w_i|-) smooth)'] = np.log(df['P(w_i|-) smooth'])\n",
    "\n",
    "print(df.head())"
   ]
  },
  {
   "cell_type": "code",
   "execution_count": 20,
   "metadata": {},
   "outputs": [],
   "source": [
    "y_test = []\n",
    "y_preds = []\n",
    "\n",
    "# YOUR CODE HERE #\n",
    "\n",
    "for sentence in happy_sentences_te + other_sentences_te:\n",
    "    prob_pos = 1\n",
    "    prob_neg = 1\n",
    "    \n",
    "    for token in sentence:\n",
    "        if token in df.index:\n",
    "            prob_pos *= df.loc[token, 'P(w_i|+)']\n",
    "            prob_neg *= df.loc[token, 'P(w_i|-)']\n",
    "        # else:\n",
    "        #     prob_pos *= 1 / (total_positive + smooth_factor)\n",
    "        #     prob_neg *= 1 / (total_negative + smooth_factor)\n",
    "        \n",
    "    if prob_pos > prob_neg:\n",
    "        y_preds.append(1)  \n",
    "    else:\n",
    "        y_preds.append(0)  \n",
    "\n",
    "# Assign true labels for the test set\n",
    "y_test = [1] * len(happy_sentences_te) + [0] * len(other_sentences_te)\n",
    "    \n",
    "y_preds = np.array(y_preds)\n",
    "y_test = np.array(y_test)"
   ]
  },
  {
   "cell_type": "code",
   "execution_count": 21,
   "metadata": {},
   "outputs": [
    {
     "data": {
      "text/plain": [
       "0.6801571303044399"
      ]
     },
     "execution_count": 21,
     "metadata": {},
     "output_type": "execute_result"
    }
   ],
   "source": [
    "sum(y_preds == y_test)/len(y_test)"
   ]
  },
  {
   "cell_type": "code",
   "execution_count": 22,
   "metadata": {},
   "outputs": [],
   "source": [
    "kaggle_test = pd.read_csv(r\"C:\\Users\\domin\\Desktop\\Year 2 Block C\\2023-24c-fai2-adsai-DominikSzewczyk224180\\Datasets\\test.csv\", sep = \"\\t\")"
   ]
  },
  {
   "cell_type": "code",
   "execution_count": 23,
   "metadata": {},
   "outputs": [],
   "source": [
    "def sentence_processor_df(df):\n",
    "    processed_sentences_list = []\n",
    "    for sentence in df['sentence']:\n",
    "        processed_sentence = sentence_processor(sentence)\n",
    "        processed_sentences_list.append(processed_sentence)\n",
    "    return processed_sentences_list"
   ]
  },
  {
   "cell_type": "code",
   "execution_count": 24,
   "metadata": {},
   "outputs": [],
   "source": [
    "kaggle_test =  sentence_processor_df(kaggle_test)"
   ]
  },
  {
   "cell_type": "code",
   "execution_count": 25,
   "metadata": {},
   "outputs": [],
   "source": [
    "y_test = []\n",
    "y_preds = []\n",
    "\n",
    "# YOUR CODE HERE #\n",
    "\n",
    "for sentence in kaggle_test:\n",
    "    prob_pos = 1\n",
    "    prob_neg = 1\n",
    "    \n",
    "    for token in sentence:\n",
    "        if token in df.index:\n",
    "            prob_pos *= df.loc[token, 'P(w_i|+)']\n",
    "            prob_neg *= df.loc[token, 'P(w_i|-)']\n",
    "        # else:\n",
    "        #     prob_pos *= 1 / (total_positive + smooth_factor)\n",
    "        #     prob_neg *= 1 / (total_negative + smooth_factor)\n",
    "        \n",
    "    if prob_pos > prob_neg:\n",
    "        y_preds.append(1)  \n",
    "    else:\n",
    "        y_preds.append(0)  \n",
    "\n",
    "    \n",
    "y_preds = np.array(y_preds)\n"
   ]
  },
  {
   "cell_type": "code",
   "execution_count": 26,
   "metadata": {},
   "outputs": [],
   "source": [
    "import csv\n",
    "\n",
    "submission_data = [(i, 'other' if pred == 0 else 'happiness') for i, pred in enumerate(y_preds)]\n",
    "\n",
    "with open(r'C:\\Users\\domin\\Desktop\\Year 2 Block C\\2023-24c-fai2-adsai-DominikSzewczyk224180\\Datasets\\submission.csv', 'w', newline='') as csvfile:\n",
    "    fieldnames = ['id', 'emotion']\n",
    "    writer = csv.DictWriter(csvfile, fieldnames=fieldnames)\n",
    "\n",
    "    writer.writeheader()\n",
    "    for row in submission_data:\n",
    "        writer.writerow({'id': row[0], 'emotion': row[1]})"
   ]
  }
 ],
 "metadata": {
  "kernelspec": {
   "display_name": "tf",
   "language": "python",
   "name": "python3"
  },
  "language_info": {
   "codemirror_mode": {
    "name": "ipython",
    "version": 3
   },
   "file_extension": ".py",
   "mimetype": "text/x-python",
   "name": "python",
   "nbconvert_exporter": "python",
   "pygments_lexer": "ipython3",
   "version": "3.9.16"
  }
 },
 "nbformat": 4,
 "nbformat_minor": 2
}
