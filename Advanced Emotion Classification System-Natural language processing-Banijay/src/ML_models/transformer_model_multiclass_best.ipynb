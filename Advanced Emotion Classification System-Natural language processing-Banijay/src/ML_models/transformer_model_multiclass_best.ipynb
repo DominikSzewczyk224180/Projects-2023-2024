{
 "cells": [
  {
   "cell_type": "code",
   "execution_count": 1,
   "metadata": {},
   "outputs": [
    {
     "name": "stdout",
     "output_type": "stream",
     "text": [
      "WARNING:tensorflow:From c:\\Users\\domin\\anaconda3\\envs\\tf\\lib\\site-packages\\tf_keras\\src\\losses.py:2976: The name tf.losses.sparse_softmax_cross_entropy is deprecated. Please use tf.compat.v1.losses.sparse_softmax_cross_entropy instead.\n",
      "\n"
     ]
    }
   ],
   "source": [
    "import tensorflow as tf\n",
    "from transformers import BertTokenizer, TFBertForSequenceClassification\n",
    "from sklearn.model_selection import train_test_split\n",
    "from sklearn.metrics import accuracy_score, f1_score\n",
    "import pandas as pd\n"
   ]
  },
  {
   "cell_type": "code",
   "execution_count": 2,
   "metadata": {},
   "outputs": [],
   "source": [
    "df = pd.read_csv(r\"C:\\Users\\domin\\Desktop\\Year 2 Block C\\2023-24c-fai2-adsai-DominikSzewczyk224180\\Datasets\\emotion_data_merged.csv\")\n",
    "df = df[df['emotion'] != 'neutral']\n",
    "df= df[:100]\n",
    "\n",
    "df = pd.read_csv(r\"C:\\Users\\domin\\Desktop\\Year 2 Block C\\2023-24c-fai2-adsai-DominikSzewczyk224180\\Datasets\\generated data\\Generated_data_multiclass_1.csv\")\n"
   ]
  },
  {
   "cell_type": "code",
   "execution_count": 4,
   "metadata": {},
   "outputs": [],
   "source": [
    "train_texts, val_texts, train_labels, val_labels = train_test_split(df['sentence'], df['emotion'], test_size=0.2, random_state=42)\n",
    "\n",
    "tokenizer = BertTokenizer.from_pretrained('bert-base-uncased')\n",
    "\n",
    "train_encodings = tokenizer(train_texts.tolist(), truncation=True, padding=True)\n",
    "val_encodings = tokenizer(val_texts.tolist(), truncation=True, padding=True)\n",
    "\n",
    "label_map = {\"happiness\": 0, \"sadness\": 1, \"anger\": 2, \"surprise\": 3, \"fear\": 4, \"disgust\": 5}\n",
    "train_labels = train_labels.map(label_map)\n",
    "val_labels = val_labels.map(label_map)\n"
   ]
  },
  {
   "cell_type": "code",
   "execution_count": 5,
   "metadata": {},
   "outputs": [],
   "source": [
    "train_dataset = tf.data.Dataset.from_tensor_slices((\n",
    "    dict(train_encodings),\n",
    "    train_labels\n",
    ")).shuffle(len(train_texts)).batch(16)\n",
    "\n",
    "val_dataset = tf.data.Dataset.from_tensor_slices((\n",
    "    dict(val_encodings),\n",
    "    val_labels\n",
    ")).batch(16)"
   ]
  },
  {
   "cell_type": "code",
   "execution_count": 6,
   "metadata": {},
   "outputs": [
    {
     "name": "stdout",
     "output_type": "stream",
     "text": [
      "WARNING:tensorflow:From c:\\Users\\domin\\anaconda3\\envs\\tf\\lib\\site-packages\\tf_keras\\src\\backend.py:873: The name tf.get_default_graph is deprecated. Please use tf.compat.v1.get_default_graph instead.\n",
      "\n"
     ]
    },
    {
     "name": "stderr",
     "output_type": "stream",
     "text": [
      "All PyTorch model weights were used when initializing TFBertForSequenceClassification.\n",
      "\n",
      "Some weights or buffers of the TF 2.0 model TFBertForSequenceClassification were not initialized from the PyTorch model and are newly initialized: ['classifier.weight', 'classifier.bias']\n",
      "You should probably TRAIN this model on a down-stream task to be able to use it for predictions and inference.\n"
     ]
    }
   ],
   "source": [
    "model = TFBertForSequenceClassification.from_pretrained('bert-base-uncased', num_labels=6)\n",
    "\n",
    "optimizer = tf.keras.optimizers.Adam(learning_rate=3e-5)\n",
    "model.compile(optimizer=optimizer, loss=tf.keras.losses.SparseCategoricalCrossentropy(from_logits=True), metrics=['accuracy'])\n"
   ]
  },
  {
   "cell_type": "code",
   "execution_count": 7,
   "metadata": {},
   "outputs": [
    {
     "name": "stdout",
     "output_type": "stream",
     "text": [
      "Epoch 1/3\n",
      "WARNING:tensorflow:AutoGraph could not transform <function infer_framework at 0x00000247720FF700> and will run it as-is.\n",
      "Cause: for/else statement not yet supported\n",
      "To silence this warning, decorate the function with @tf.autograph.experimental.do_not_convert\n",
      "WARNING: AutoGraph could not transform <function infer_framework at 0x00000247720FF700> and will run it as-is.\n",
      "Cause: for/else statement not yet supported\n",
      "To silence this warning, decorate the function with @tf.autograph.experimental.do_not_convert\n",
      "WARNING:tensorflow:From c:\\Users\\domin\\anaconda3\\envs\\tf\\lib\\site-packages\\tensorflow\\python\\autograph\\converters\\directives.py:126: The name tf.nn.fused_batch_norm is deprecated. Please use tf.compat.v1.nn.fused_batch_norm instead.\n",
      "\n",
      "WARNING:tensorflow:From c:\\Users\\domin\\anaconda3\\envs\\tf\\lib\\site-packages\\tensorflow\\python\\autograph\\converters\\directives.py:126: The name tf.ragged.RaggedTensorValue is deprecated. Please use tf.compat.v1.ragged.RaggedTensorValue instead.\n",
      "\n",
      "WARNING:tensorflow:From c:\\Users\\domin\\anaconda3\\envs\\tf\\lib\\site-packages\\tf_keras\\src\\engine\\base_layer_utils.py:384: The name tf.executing_eagerly_outside_functions is deprecated. Please use tf.compat.v1.executing_eagerly_outside_functions instead.\n",
      "\n",
      "50/50 [==============================] - 361s 6s/step - loss: 1.5835 - accuracy: 0.3990 - val_loss: 0.9483 - val_accuracy: 0.8071\n",
      "Epoch 2/3\n",
      "50/50 [==============================] - 235s 5s/step - loss: 0.4491 - accuracy: 0.9009 - val_loss: 0.2180 - val_accuracy: 0.9340\n",
      "Epoch 3/3\n",
      "50/50 [==============================] - 233s 5s/step - loss: 0.1067 - accuracy: 0.9771 - val_loss: 0.1913 - val_accuracy: 0.9391\n"
     ]
    },
    {
     "data": {
      "text/plain": [
       "<tf_keras.src.callbacks.History at 0x2475fd2c040>"
      ]
     },
     "execution_count": 7,
     "metadata": {},
     "output_type": "execute_result"
    }
   ],
   "source": [
    "model.fit(train_dataset, epochs=3, validation_data=val_dataset)"
   ]
  },
  {
   "cell_type": "code",
   "execution_count": 8,
   "metadata": {},
   "outputs": [],
   "source": [
    "model.save_pretrained('./model5/')"
   ]
  },
  {
   "cell_type": "code",
   "execution_count": 9,
   "metadata": {},
   "outputs": [
    {
     "name": "stdout",
     "output_type": "stream",
     "text": [
      "13/13 [==============================] - 32s 791ms/step\n",
      "Validation Accuracy: 0.9390862944162437\n",
      "Validation F1 Score: 0.9395160494593161\n"
     ]
    }
   ],
   "source": [
    "\n",
    "val_pred_logits = model.predict(val_dataset)\n",
    "val_pred_labels = tf.argmax(val_pred_logits.logits, axis=1)\n",
    "\n",
    "val_accuracy = accuracy_score(val_labels, val_pred_labels)\n",
    "val_f1 = f1_score(val_labels, val_pred_labels, average='weighted')\n",
    "\n",
    "print(\"Validation Accuracy:\", val_accuracy)\n",
    "print(\"Validation F1 Score:\", val_f1)"
   ]
  },
  {
   "cell_type": "code",
   "execution_count": 10,
   "metadata": {},
   "outputs": [
    {
     "name": "stdout",
     "output_type": "stream",
     "text": [
      "90/90 [==============================] - 145s 1s/step\n"
     ]
    }
   ],
   "source": [
    "test_df = pd.read_csv(r'C:\\Users\\domin\\Desktop\\Year 2 Block C\\2023-24c-fai2-adsai-DominikSzewczyk224180\\Datasets\\test_multiclass.csv', sep = \"\\t\")\n",
    "\n",
    "test_encodings = tokenizer(test_df['sentence'].tolist(), truncation=True, padding=True)\n",
    "\n",
    "test_dataset = tf.data.Dataset.from_tensor_slices((dict(test_encodings)))\n",
    "\n",
    "test_pred_logits = model.predict(test_dataset.batch(16))\n",
    "test_pred_labels = tf.argmax(test_pred_logits.logits, axis=1)\n",
    "\n",
    "label_map_inverse = {v: k for k, v in label_map.items()}\n",
    "predicted_emotions = [label_map_inverse[label] for label in test_pred_labels.numpy()]\n",
    "\n",
    "\n",
    "output_df = pd.DataFrame({'id': test_df['id'], 'emotion': predicted_emotions})\n",
    "output_df.to_csv('predictions_test_new_model_multiclass6.csv', index=False)  \n"
   ]
  }
 ],
 "metadata": {
  "kernelspec": {
   "display_name": "tf",
   "language": "python",
   "name": "python3"
  },
  "language_info": {
   "codemirror_mode": {
    "name": "ipython",
    "version": 3
   },
   "file_extension": ".py",
   "mimetype": "text/x-python",
   "name": "python",
   "nbconvert_exporter": "python",
   "pygments_lexer": "ipython3",
   "version": "3.9.19"
  }
 },
 "nbformat": 4,
 "nbformat_minor": 2
}
