{
 "cells": [
  {
   "cell_type": "code",
   "execution_count": 1,
   "metadata": {},
   "outputs": [],
   "source": [
    "import pandas as pd\n",
    "import re\n",
    "import string\n",
    "import numpy as np\n",
    "from nltk.tokenize import word_tokenize\n",
    "from nltk.corpus import stopwords\n",
    "from nltk.stem import PorterStemmer\n",
    "from sklearn.feature_extraction.text import CountVectorizer\n",
    "from sklearn.model_selection import train_test_split\n",
    "from sklearn.linear_model import LogisticRegression\n",
    "from sklearn.metrics import accuracy_score\n",
    "from nltk.sentiment import SentimentIntensityAnalyzer\n",
    "from sklearn.metrics import f1_score"
   ]
  },
  {
   "cell_type": "code",
   "execution_count": 2,
   "metadata": {},
   "outputs": [],
   "source": [
    "simplified_emotions = pd.read_csv(r\"C:\\Users\\domin\\Desktop\\Year 2 Block C\\2023-24c-fai2-adsai-DominikSzewczyk224180\\Datasets\\simplified_emotions.csv\")"
   ]
  },
  {
   "cell_type": "code",
   "execution_count": 3,
   "metadata": {},
   "outputs": [
    {
     "name": "stdout",
     "output_type": "stream",
     "text": [
      "Accuracy: 0.693838519590613\n",
      "Test f1 score: 0.4844570930963803\n"
     ]
    }
   ],
   "source": [
    "vectorizer = CountVectorizer()\n",
    "X = vectorizer.fit_transform(simplified_emotions['sentence'])\n",
    "y = simplified_emotions['emotion']\n",
    "\n",
    "X_train, X_test, y_train, y_test = train_test_split(X, y, test_size=0.2, random_state=42)\n",
    "\n",
    "model = LogisticRegression(max_iter=1000)\n",
    "model.fit(X_train, y_train)\n",
    "\n",
    "y_pred = model.predict(X_test)\n",
    "\n",
    "accuracy = accuracy_score(y_test, y_pred)\n",
    "print(\"Accuracy:\", accuracy)\n",
    "test_f1_score = f1_score(y_test, y_pred, average='macro')\n",
    "print(\"Test f1 score:\", test_f1_score)"
   ]
  },
  {
   "cell_type": "code",
   "execution_count": 4,
   "metadata": {},
   "outputs": [
    {
     "name": "stdout",
     "output_type": "stream",
     "text": [
      "Accuracy: 0.7056239015817223\n",
      "Test f1 score: 0.4884640867639952\n"
     ]
    }
   ],
   "source": [
    "\n",
    "\n",
    "def sentence_processor(sentence):\n",
    "    sentence = re.sub(r'http\\S+', '', sentence)\n",
    "    sentence = sentence.replace('#', '')\n",
    "    tokenizer = word_tokenize\n",
    "    processed_sentence = tokenizer(sentence)\n",
    "    stopwords_english = set(stopwords.words('english'))\n",
    "    processed_sentence = [word for word in processed_sentence if word.lower() not in stopwords_english]\n",
    "    processed_sentence = [word for word in processed_sentence if word.lower() not in string.punctuation]\n",
    "    stemmer = PorterStemmer()\n",
    "    processed_sentence = [stemmer.stem(word) for word in processed_sentence]\n",
    "    return processed_sentence\n",
    "\n",
    "def sentence_processor_df(df):\n",
    "    processed_sentences_list = []\n",
    "    for sentence in df['sentence']:\n",
    "        processed_sentence = sentence_processor(sentence)\n",
    "        processed_sentences_list.append(processed_sentence)\n",
    "    return processed_sentences_list\n",
    "\n",
    "\n",
    "processed_sentences = sentence_processor_df(simplified_emotions)\n",
    "processed_sentences_str = [\" \".join(sentence) for sentence in processed_sentences]\n",
    "\n",
    "vectorizer = CountVectorizer()\n",
    "X = vectorizer.fit_transform(processed_sentences_str)\n",
    "y = simplified_emotions['emotion']\n",
    "\n",
    "X_train, X_test, y_train, y_test = train_test_split(X, y, test_size=0.2, random_state=42)\n",
    "\n",
    "model = LogisticRegression(max_iter=1000)\n",
    "model.fit(X_train, y_train)\n",
    "\n",
    "y_pred = model.predict(X_test)\n",
    "\n",
    "accuracy = accuracy_score(y_test, y_pred)\n",
    "print(\"Accuracy:\", accuracy)\n",
    "test_f1_score = f1_score(y_test, y_pred, average='macro')\n",
    "print(\"Test f1 score:\", test_f1_score)\n"
   ]
  },
  {
   "cell_type": "code",
   "execution_count": 5,
   "metadata": {},
   "outputs": [
    {
     "name": "stdout",
     "output_type": "stream",
     "text": [
      "Accuracy: 0.7044867156001241\n",
      "Test f1 score: 0.4959836372551889\n"
     ]
    }
   ],
   "source": [
    "\n",
    "processed_sentences = sentence_processor_df(simplified_emotions)\n",
    "processed_sentences_str = [\" \".join(sentence) for sentence in processed_sentences]\n",
    "\n",
    "vectorizer = CountVectorizer()\n",
    "X_text = vectorizer.fit_transform(processed_sentences_str)\n",
    "y = simplified_emotions['emotion']\n",
    "\n",
    "sia = SentimentIntensityAnalyzer()\n",
    "sentiment_features = []\n",
    "for sentence_tokens in processed_sentences:\n",
    "    scores = sia.polarity_scores(' '.join(sentence_tokens))\n",
    "    sentiment_features.append([scores['pos'], scores['neg'], scores['compound']])\n",
    "\n",
    "X_sentiment = np.array(sentiment_features)\n",
    "\n",
    "X_combined = np.concatenate((X_text.toarray(), X_sentiment), axis=1)\n",
    "\n",
    "X_train, X_test, y_train, y_test = train_test_split(X_combined, y, test_size=0.2, random_state=42)\n",
    "\n",
    "model = LogisticRegression(max_iter=1000)\n",
    "model.fit(X_train, y_train)\n",
    "\n",
    "y_pred = model.predict(X_test)\n",
    "\n",
    "accuracy = accuracy_score(y_test, y_pred)\n",
    "print(\"Accuracy:\", accuracy)\n",
    "test_f1_score = f1_score(y_test, y_pred, average='macro')\n",
    "print(\"Test f1 score:\", test_f1_score)\n"
   ]
  },
  {
   "cell_type": "code",
   "execution_count": 6,
   "metadata": {},
   "outputs": [],
   "source": [
    "kaggle_test = pd.read_csv(r\"C:\\Users\\domin\\Desktop\\Year 2 Block C\\2023-24c-fai2-adsai-DominikSzewczyk224180\\Datasets\\test.csv\", sep = \"\\t\")"
   ]
  },
  {
   "cell_type": "code",
   "execution_count": 7,
   "metadata": {},
   "outputs": [
    {
     "data": {
      "text/html": [
       "<div>\n",
       "<style scoped>\n",
       "    .dataframe tbody tr th:only-of-type {\n",
       "        vertical-align: middle;\n",
       "    }\n",
       "\n",
       "    .dataframe tbody tr th {\n",
       "        vertical-align: top;\n",
       "    }\n",
       "\n",
       "    .dataframe thead th {\n",
       "        text-align: right;\n",
       "    }\n",
       "</style>\n",
       "<table border=\"1\" class=\"dataframe\">\n",
       "  <thead>\n",
       "    <tr style=\"text-align: right;\">\n",
       "      <th></th>\n",
       "      <th>id</th>\n",
       "      <th>sentence</th>\n",
       "    </tr>\n",
       "  </thead>\n",
       "  <tbody>\n",
       "    <tr>\n",
       "      <th>0</th>\n",
       "      <td>0</td>\n",
       "      <td>I get sad when I see a sick animal.</td>\n",
       "    </tr>\n",
       "    <tr>\n",
       "      <th>1</th>\n",
       "      <td>1</td>\n",
       "      <td>Getting punched in the face like that makes my...</td>\n",
       "    </tr>\n",
       "    <tr>\n",
       "      <th>2</th>\n",
       "      <td>2</td>\n",
       "      <td>I get anxious near the end of the block.</td>\n",
       "    </tr>\n",
       "    <tr>\n",
       "      <th>3</th>\n",
       "      <td>3</td>\n",
       "      <td>being awoken to a shadowy figure at the edge o...</td>\n",
       "    </tr>\n",
       "    <tr>\n",
       "      <th>4</th>\n",
       "      <td>4</td>\n",
       "      <td>I am annoyed that my brother didn't wash his d...</td>\n",
       "    </tr>\n",
       "    <tr>\n",
       "      <th>...</th>\n",
       "      <td>...</td>\n",
       "      <td>...</td>\n",
       "    </tr>\n",
       "    <tr>\n",
       "      <th>1431</th>\n",
       "      <td>1431</td>\n",
       "      <td>We are so glad you found a new job.</td>\n",
       "    </tr>\n",
       "    <tr>\n",
       "      <th>1432</th>\n",
       "      <td>1432</td>\n",
       "      <td>Lisa's heart swelled with joy as her dog eager...</td>\n",
       "    </tr>\n",
       "    <tr>\n",
       "      <th>1433</th>\n",
       "      <td>1433</td>\n",
       "      <td>The view is so amazing that I don't know what ...</td>\n",
       "    </tr>\n",
       "    <tr>\n",
       "      <th>1434</th>\n",
       "      <td>1434</td>\n",
       "      <td>The scent of fresh flowers always brings her joy.</td>\n",
       "    </tr>\n",
       "    <tr>\n",
       "      <th>1435</th>\n",
       "      <td>1435</td>\n",
       "      <td>I can't imagine climbing that high.</td>\n",
       "    </tr>\n",
       "  </tbody>\n",
       "</table>\n",
       "<p>1436 rows × 2 columns</p>\n",
       "</div>"
      ],
      "text/plain": [
       "        id                                           sentence\n",
       "0        0                I get sad when I see a sick animal.\n",
       "1        1  Getting punched in the face like that makes my...\n",
       "2        2           I get anxious near the end of the block.\n",
       "3        3  being awoken to a shadowy figure at the edge o...\n",
       "4        4  I am annoyed that my brother didn't wash his d...\n",
       "...    ...                                                ...\n",
       "1431  1431                We are so glad you found a new job.\n",
       "1432  1432  Lisa's heart swelled with joy as her dog eager...\n",
       "1433  1433  The view is so amazing that I don't know what ...\n",
       "1434  1434  The scent of fresh flowers always brings her joy.\n",
       "1435  1435                I can't imagine climbing that high.\n",
       "\n",
       "[1436 rows x 2 columns]"
      ]
     },
     "execution_count": 7,
     "metadata": {},
     "output_type": "execute_result"
    }
   ],
   "source": [
    "kaggle_test"
   ]
  },
  {
   "cell_type": "code",
   "execution_count": 8,
   "metadata": {},
   "outputs": [],
   "source": [
    "\n",
    "kaggle_test = pd.read_csv(r\"C:\\Users\\domin\\Desktop\\Year 2 Block C\\2023-24c-fai2-adsai-DominikSzewczyk224180\\Datasets\\test.csv\", sep=\"\\t\")\n",
    "\n",
    "\n",
    "def sentence_processor(sentence):\n",
    "    sentence = re.sub(r'http\\S+', '', sentence)\n",
    "    sentence = sentence.replace('#', '')\n",
    "    tokenizer = word_tokenize\n",
    "    processed_sentence = tokenizer(sentence)\n",
    "    stopwords_english = set(stopwords.words('english'))\n",
    "    processed_sentence = [word for word in processed_sentence if word.lower() not in stopwords_english]\n",
    "    processed_sentence = [word for word in processed_sentence if word.lower() not in string.punctuation]\n",
    "    stemmer = PorterStemmer()\n",
    "    processed_sentence = [stemmer.stem(word) for word in processed_sentence]\n",
    "    return processed_sentence\n",
    "\n",
    "# Sentiment analysis\n",
    "def calculate_sentiment_features(sentences):\n",
    "    sia = SentimentIntensityAnalyzer()\n",
    "    sentiment_features = []\n",
    "    for sentence in sentences:\n",
    "        scores = sia.polarity_scores(sentence)\n",
    "        sentiment_features.append([scores['pos'], scores['neg'], scores['compound']])\n",
    "    return np.array(sentiment_features)\n",
    "\n",
    "# Preprocessing Kaggle test sentences\n",
    "processed_sentences = [sentence_processor(sentence) for sentence in kaggle_test['sentence']]\n",
    "sentiment_features = calculate_sentiment_features(kaggle_test['sentence'])\n",
    "\n",
    "\n",
    "processed_sentences_str = [\" \".join(sentence) for sentence in processed_sentences]\n",
    "X_text = vectorizer.transform(processed_sentences_str)\n",
    "X_sentiment = np.array(sentiment_features)\n",
    "X_combined = np.concatenate((X_text.toarray(), X_sentiment), axis=1)\n",
    "\n",
    "predictions = model.predict(X_combined)\n",
    "\n",
    "\n"
   ]
  },
  {
   "cell_type": "code",
   "execution_count": 9,
   "metadata": {},
   "outputs": [],
   "source": [
    "output_df = pd.DataFrame({'id': kaggle_test['id'], 'emotion': predictions})\n",
    "\n",
    "output_df.to_csv(\"kaggle_test_predictions.csv\", index=False)"
   ]
  }
 ],
 "metadata": {
  "kernelspec": {
   "display_name": "tf",
   "language": "python",
   "name": "python3"
  },
  "language_info": {
   "codemirror_mode": {
    "name": "ipython",
    "version": 3
   },
   "file_extension": ".py",
   "mimetype": "text/x-python",
   "name": "python",
   "nbconvert_exporter": "python",
   "pygments_lexer": "ipython3",
   "version": "3.9.16"
  }
 },
 "nbformat": 4,
 "nbformat_minor": 2
}
