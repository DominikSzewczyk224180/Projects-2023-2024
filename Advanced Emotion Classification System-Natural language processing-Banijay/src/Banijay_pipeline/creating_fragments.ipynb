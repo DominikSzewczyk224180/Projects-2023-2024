{
 "cells": [
  {
   "cell_type": "code",
   "execution_count": 3,
   "metadata": {},
   "outputs": [
    {
     "name": "stderr",
     "output_type": "stream",
     "text": [
      "chunk:  95%|█████████▌| 91540/95874 [16:51:26<00:02, 1731.75it/s, now=None]"
     ]
    },
    {
     "name": "stdout",
     "output_type": "stream",
     "text": [
      "Moviepy - Building video output_fragment_Episode_1_fragment_0.mov.\n",
      "MoviePy - Writing audio in output_fragment_Episode_1_fragment_0TEMP_MPY_wvf_snd.mp3\n"
     ]
    },
    {
     "name": "stderr",
     "output_type": "stream",
     "text": [
      "chunk:  95%|█████████▌| 91540/95874 [16:51:28<00:02, 1731.75it/s, now=None]"
     ]
    },
    {
     "name": "stdout",
     "output_type": "stream",
     "text": [
      "MoviePy - Done.\n",
      "Moviepy - Writing video output_fragment_Episode_1_fragment_0.mov\n",
      "\n"
     ]
    },
    {
     "name": "stderr",
     "output_type": "stream",
     "text": [
      "chunk:  95%|█████████▌| 91540/95874 [16:51:48<00:02, 1731.75it/s, now=None]"
     ]
    },
    {
     "name": "stdout",
     "output_type": "stream",
     "text": [
      "Moviepy - Done !\n",
      "Moviepy - video ready output_fragment_Episode_1_fragment_0.mov\n",
      "Moviepy - Building video output_fragment_Episode_1_fragment_1.mov.\n",
      "MoviePy - Writing audio in output_fragment_Episode_1_fragment_1TEMP_MPY_wvf_snd.mp3\n"
     ]
    },
    {
     "name": "stderr",
     "output_type": "stream",
     "text": [
      "chunk:  95%|█████████▌| 91540/95874 [16:51:51<00:02, 1731.75it/s, now=None]"
     ]
    },
    {
     "name": "stdout",
     "output_type": "stream",
     "text": [
      "MoviePy - Done.\n",
      "Moviepy - Writing video output_fragment_Episode_1_fragment_1.mov\n",
      "\n"
     ]
    },
    {
     "name": "stderr",
     "output_type": "stream",
     "text": [
      "chunk:  95%|█████████▌| 91540/95874 [16:52:30<00:02, 1731.75it/s, now=None]"
     ]
    },
    {
     "name": "stdout",
     "output_type": "stream",
     "text": [
      "Moviepy - Done !\n",
      "Moviepy - video ready output_fragment_Episode_1_fragment_1.mov\n",
      "Moviepy - Building video output_fragment_Episode_1_fragment_2.mov.\n",
      "MoviePy - Writing audio in output_fragment_Episode_1_fragment_2TEMP_MPY_wvf_snd.mp3\n"
     ]
    },
    {
     "name": "stderr",
     "output_type": "stream",
     "text": [
      "chunk:  95%|█████████▌| 91540/95874 [16:52:30<00:02, 1731.75it/s, now=None]"
     ]
    },
    {
     "name": "stdout",
     "output_type": "stream",
     "text": [
      "MoviePy - Done.\n",
      "Moviepy - Writing video output_fragment_Episode_1_fragment_2.mov\n",
      "\n"
     ]
    },
    {
     "name": "stderr",
     "output_type": "stream",
     "text": [
      "chunk:  95%|█████████▌| 91540/95874 [16:52:35<00:02, 1731.75it/s, now=None]"
     ]
    },
    {
     "name": "stdout",
     "output_type": "stream",
     "text": [
      "Moviepy - Done !\n",
      "Moviepy - video ready output_fragment_Episode_1_fragment_2.mov\n",
      "Moviepy - Building video output_fragment_Episode_1_fragment_3.mov.\n",
      "MoviePy - Writing audio in output_fragment_Episode_1_fragment_3TEMP_MPY_wvf_snd.mp3\n"
     ]
    },
    {
     "name": "stderr",
     "output_type": "stream",
     "text": [
      "chunk:  95%|█████████▌| 91540/95874 [16:52:36<00:02, 1731.75it/s, now=None]"
     ]
    },
    {
     "name": "stdout",
     "output_type": "stream",
     "text": [
      "MoviePy - Done.\n",
      "Moviepy - Writing video output_fragment_Episode_1_fragment_3.mov\n",
      "\n"
     ]
    },
    {
     "name": "stderr",
     "output_type": "stream",
     "text": [
      "chunk:  95%|█████████▌| 91540/95874 [16:52:45<00:02, 1731.75it/s, now=None]"
     ]
    },
    {
     "name": "stdout",
     "output_type": "stream",
     "text": [
      "Moviepy - Done !\n",
      "Moviepy - video ready output_fragment_Episode_1_fragment_3.mov\n",
      "Moviepy - Building video output_fragment_Episode_1_fragment_4.mov.\n",
      "MoviePy - Writing audio in output_fragment_Episode_1_fragment_4TEMP_MPY_wvf_snd.mp3\n"
     ]
    },
    {
     "name": "stderr",
     "output_type": "stream",
     "text": [
      "chunk:  95%|█████████▌| 91540/95874 [16:52:46<00:02, 1731.75it/s, now=None]"
     ]
    },
    {
     "name": "stdout",
     "output_type": "stream",
     "text": [
      "MoviePy - Done.\n",
      "Moviepy - Writing video output_fragment_Episode_1_fragment_4.mov\n",
      "\n"
     ]
    },
    {
     "name": "stderr",
     "output_type": "stream",
     "text": [
      "chunk:  95%|█████████▌| 91540/95874 [16:52:56<00:02, 1731.75it/s, now=None]"
     ]
    },
    {
     "name": "stdout",
     "output_type": "stream",
     "text": [
      "Moviepy - Done !\n",
      "Moviepy - video ready output_fragment_Episode_1_fragment_4.mov\n",
      "Moviepy - Building video output_fragment_Episode_1_fragment_5.mov.\n",
      "MoviePy - Writing audio in output_fragment_Episode_1_fragment_5TEMP_MPY_wvf_snd.mp3\n"
     ]
    },
    {
     "name": "stderr",
     "output_type": "stream",
     "text": [
      "chunk:  95%|█████████▌| 91540/95874 [16:52:57<00:02, 1731.75it/s, now=None]"
     ]
    },
    {
     "name": "stdout",
     "output_type": "stream",
     "text": [
      "MoviePy - Done.\n",
      "Moviepy - Writing video output_fragment_Episode_1_fragment_5.mov\n",
      "\n"
     ]
    },
    {
     "name": "stderr",
     "output_type": "stream",
     "text": [
      "chunk:  95%|█████████▌| 91540/95874 [16:53:07<00:02, 1731.75it/s, now=None]"
     ]
    },
    {
     "name": "stdout",
     "output_type": "stream",
     "text": [
      "Moviepy - Done !\n",
      "Moviepy - video ready output_fragment_Episode_1_fragment_5.mov\n",
      "Moviepy - Building video output_fragment_Episode_1_fragment_6.mov.\n",
      "MoviePy - Writing audio in output_fragment_Episode_1_fragment_6TEMP_MPY_wvf_snd.mp3\n"
     ]
    },
    {
     "name": "stderr",
     "output_type": "stream",
     "text": [
      "chunk:  95%|█████████▌| 91540/95874 [16:53:08<00:02, 1731.75it/s, now=None]"
     ]
    },
    {
     "name": "stdout",
     "output_type": "stream",
     "text": [
      "MoviePy - Done.\n",
      "Moviepy - Writing video output_fragment_Episode_1_fragment_6.mov\n",
      "\n"
     ]
    },
    {
     "name": "stderr",
     "output_type": "stream",
     "text": [
      "chunk:  95%|█████████▌| 91540/95874 [16:53:19<00:02, 1731.75it/s, now=None]"
     ]
    },
    {
     "name": "stdout",
     "output_type": "stream",
     "text": [
      "Moviepy - Done !\n",
      "Moviepy - video ready output_fragment_Episode_1_fragment_6.mov\n",
      "Moviepy - Building video output_fragment_Episode_1_fragment_7.mov.\n",
      "MoviePy - Writing audio in output_fragment_Episode_1_fragment_7TEMP_MPY_wvf_snd.mp3\n"
     ]
    },
    {
     "name": "stderr",
     "output_type": "stream",
     "text": [
      "chunk:  95%|█████████▌| 91540/95874 [16:53:20<00:02, 1731.75it/s, now=None]"
     ]
    },
    {
     "name": "stdout",
     "output_type": "stream",
     "text": [
      "MoviePy - Done.\n",
      "Moviepy - Writing video output_fragment_Episode_1_fragment_7.mov\n",
      "\n"
     ]
    },
    {
     "name": "stderr",
     "output_type": "stream",
     "text": [
      "chunk:  95%|█████████▌| 91540/95874 [16:53:33<00:02, 1731.75it/s, now=None]"
     ]
    },
    {
     "name": "stdout",
     "output_type": "stream",
     "text": [
      "Moviepy - Done !\n",
      "Moviepy - video ready output_fragment_Episode_1_fragment_7.mov\n",
      "Moviepy - Building video output_fragment_Episode_1_fragment_8.mov.\n",
      "MoviePy - Writing audio in output_fragment_Episode_1_fragment_8TEMP_MPY_wvf_snd.mp3\n"
     ]
    },
    {
     "name": "stderr",
     "output_type": "stream",
     "text": [
      "chunk:  95%|█████████▌| 91540/95874 [16:53:33<00:02, 1731.75it/s, now=None]"
     ]
    },
    {
     "name": "stdout",
     "output_type": "stream",
     "text": [
      "MoviePy - Done.\n",
      "Moviepy - Writing video output_fragment_Episode_1_fragment_8.mov\n",
      "\n"
     ]
    },
    {
     "name": "stderr",
     "output_type": "stream",
     "text": [
      "chunk:  95%|█████████▌| 91540/95874 [16:53:37<00:02, 1731.75it/s, now=None]"
     ]
    },
    {
     "name": "stdout",
     "output_type": "stream",
     "text": [
      "Moviepy - Done !\n",
      "Moviepy - video ready output_fragment_Episode_1_fragment_8.mov\n",
      "Moviepy - Building video output_fragment_Episode_1_fragment_9.mov.\n",
      "MoviePy - Writing audio in output_fragment_Episode_1_fragment_9TEMP_MPY_wvf_snd.mp3\n"
     ]
    },
    {
     "name": "stderr",
     "output_type": "stream",
     "text": [
      "chunk:  95%|█████████▌| 91540/95874 [16:53:39<00:02, 1731.75it/s, now=None]"
     ]
    },
    {
     "name": "stdout",
     "output_type": "stream",
     "text": [
      "MoviePy - Done.\n",
      "Moviepy - Writing video output_fragment_Episode_1_fragment_9.mov\n",
      "\n"
     ]
    },
    {
     "name": "stderr",
     "output_type": "stream",
     "text": [
      "chunk:  95%|█████████▌| 91540/95874 [16:53:49<00:02, 1731.75it/s, now=None]"
     ]
    },
    {
     "name": "stdout",
     "output_type": "stream",
     "text": [
      "Moviepy - Done !\n",
      "Moviepy - video ready output_fragment_Episode_1_fragment_9.mov\n",
      "Moviepy - Building video output_fragment_Episode_1_fragment_10.mov.\n",
      "MoviePy - Writing audio in output_fragment_Episode_1_fragment_10TEMP_MPY_wvf_snd.mp3\n"
     ]
    },
    {
     "name": "stderr",
     "output_type": "stream",
     "text": [
      "chunk:  95%|█████████▌| 91540/95874 [16:53:50<00:02, 1731.75it/s, now=None]"
     ]
    },
    {
     "name": "stdout",
     "output_type": "stream",
     "text": [
      "MoviePy - Done.\n",
      "Moviepy - Writing video output_fragment_Episode_1_fragment_10.mov\n",
      "\n"
     ]
    },
    {
     "name": "stderr",
     "output_type": "stream",
     "text": [
      "chunk:  95%|█████████▌| 91540/95874 [16:53:52<00:02, 1731.75it/s, now=None]"
     ]
    },
    {
     "name": "stdout",
     "output_type": "stream",
     "text": [
      "Moviepy - Done !\n",
      "Moviepy - video ready output_fragment_Episode_1_fragment_10.mov\n",
      "Moviepy - Building video output_fragment_Episode_1_fragment_11.mov.\n",
      "MoviePy - Writing audio in output_fragment_Episode_1_fragment_11TEMP_MPY_wvf_snd.mp3\n"
     ]
    },
    {
     "name": "stderr",
     "output_type": "stream",
     "text": [
      "chunk:  95%|█████████▌| 91540/95874 [16:53:54<00:02, 1731.75it/s, now=None]"
     ]
    },
    {
     "name": "stdout",
     "output_type": "stream",
     "text": [
      "MoviePy - Done.\n",
      "Moviepy - Writing video output_fragment_Episode_1_fragment_11.mov\n",
      "\n"
     ]
    },
    {
     "name": "stderr",
     "output_type": "stream",
     "text": [
      "chunk:  95%|█████████▌| 91540/95874 [16:54:05<00:02, 1731.75it/s, now=None]"
     ]
    },
    {
     "name": "stdout",
     "output_type": "stream",
     "text": [
      "Moviepy - Done !\n",
      "Moviepy - video ready output_fragment_Episode_1_fragment_11.mov\n",
      "Moviepy - Building video output_fragment_Episode_1_fragment_12.mov.\n",
      "MoviePy - Writing audio in output_fragment_Episode_1_fragment_12TEMP_MPY_wvf_snd.mp3\n"
     ]
    },
    {
     "name": "stderr",
     "output_type": "stream",
     "text": [
      "chunk:  95%|█████████▌| 91540/95874 [16:54:06<00:02, 1731.75it/s, now=None]"
     ]
    },
    {
     "name": "stdout",
     "output_type": "stream",
     "text": [
      "MoviePy - Done.\n",
      "Moviepy - Writing video output_fragment_Episode_1_fragment_12.mov\n",
      "\n"
     ]
    },
    {
     "name": "stderr",
     "output_type": "stream",
     "text": [
      "chunk:  95%|█████████▌| 91540/95874 [16:54:17<00:02, 1731.75it/s, now=None]"
     ]
    },
    {
     "name": "stdout",
     "output_type": "stream",
     "text": [
      "Moviepy - Done !\n",
      "Moviepy - video ready output_fragment_Episode_1_fragment_12.mov\n",
      "Moviepy - Building video output_fragment_Episode_1_fragment_13.mov.\n",
      "MoviePy - Writing audio in output_fragment_Episode_1_fragment_13TEMP_MPY_wvf_snd.mp3\n"
     ]
    },
    {
     "name": "stderr",
     "output_type": "stream",
     "text": [
      "chunk:  95%|█████████▌| 91540/95874 [16:54:17<00:02, 1731.75it/s, now=None]"
     ]
    },
    {
     "name": "stdout",
     "output_type": "stream",
     "text": [
      "MoviePy - Done.\n",
      "Moviepy - Writing video output_fragment_Episode_1_fragment_13.mov\n",
      "\n"
     ]
    },
    {
     "name": "stderr",
     "output_type": "stream",
     "text": [
      "chunk:  95%|█████████▌| 91540/95874 [16:54:23<00:02, 1731.75it/s, now=None]"
     ]
    },
    {
     "name": "stdout",
     "output_type": "stream",
     "text": [
      "Moviepy - Done !\n",
      "Moviepy - video ready output_fragment_Episode_1_fragment_13.mov\n",
      "Moviepy - Building video output_fragment_Episode_1_fragment_14.mov.\n",
      "MoviePy - Writing audio in output_fragment_Episode_1_fragment_14TEMP_MPY_wvf_snd.mp3\n"
     ]
    },
    {
     "name": "stderr",
     "output_type": "stream",
     "text": [
      "chunk:  95%|█████████▌| 91540/95874 [16:54:24<00:02, 1731.75it/s, now=None]"
     ]
    },
    {
     "name": "stdout",
     "output_type": "stream",
     "text": [
      "MoviePy - Done.\n",
      "Moviepy - Writing video output_fragment_Episode_1_fragment_14.mov\n",
      "\n"
     ]
    },
    {
     "name": "stderr",
     "output_type": "stream",
     "text": [
      "chunk:  95%|█████████▌| 91540/95874 [16:54:32<00:02, 1731.75it/s, now=None]"
     ]
    },
    {
     "name": "stdout",
     "output_type": "stream",
     "text": [
      "Moviepy - Done !\n",
      "Moviepy - video ready output_fragment_Episode_1_fragment_14.mov\n",
      "Moviepy - Building video output_fragment_Episode_1_fragment_15.mov.\n",
      "MoviePy - Writing audio in output_fragment_Episode_1_fragment_15TEMP_MPY_wvf_snd.mp3\n"
     ]
    },
    {
     "name": "stderr",
     "output_type": "stream",
     "text": [
      "chunk:  95%|█████████▌| 91540/95874 [16:54:32<00:02, 1731.75it/s, now=None]"
     ]
    },
    {
     "name": "stdout",
     "output_type": "stream",
     "text": [
      "MoviePy - Done.\n",
      "Moviepy - Writing video output_fragment_Episode_1_fragment_15.mov\n",
      "\n"
     ]
    },
    {
     "name": "stderr",
     "output_type": "stream",
     "text": [
      "chunk:  95%|█████████▌| 91540/95874 [16:54:40<00:02, 1731.75it/s, now=None]"
     ]
    },
    {
     "name": "stdout",
     "output_type": "stream",
     "text": [
      "Moviepy - Done !\n",
      "Moviepy - video ready output_fragment_Episode_1_fragment_15.mov\n",
      "Moviepy - Building video output_fragment_Episode_1_fragment_16.mov.\n",
      "MoviePy - Writing audio in output_fragment_Episode_1_fragment_16TEMP_MPY_wvf_snd.mp3\n"
     ]
    },
    {
     "name": "stderr",
     "output_type": "stream",
     "text": [
      "chunk:  95%|█████████▌| 91540/95874 [16:54:41<00:02, 1731.75it/s, now=None]"
     ]
    },
    {
     "name": "stdout",
     "output_type": "stream",
     "text": [
      "MoviePy - Done.\n",
      "Moviepy - Writing video output_fragment_Episode_1_fragment_16.mov\n",
      "\n"
     ]
    },
    {
     "name": "stderr",
     "output_type": "stream",
     "text": [
      "chunk:  95%|█████████▌| 91540/95874 [16:54:46<00:02, 1731.75it/s, now=None]"
     ]
    },
    {
     "name": "stdout",
     "output_type": "stream",
     "text": [
      "Moviepy - Done !\n",
      "Moviepy - video ready output_fragment_Episode_1_fragment_16.mov\n",
      "Moviepy - Building video output_fragment_Episode_1_fragment_17.mov.\n",
      "MoviePy - Writing audio in output_fragment_Episode_1_fragment_17TEMP_MPY_wvf_snd.mp3\n"
     ]
    },
    {
     "name": "stderr",
     "output_type": "stream",
     "text": [
      "chunk:  95%|█████████▌| 91540/95874 [16:54:47<00:02, 1731.75it/s, now=None]"
     ]
    },
    {
     "name": "stdout",
     "output_type": "stream",
     "text": [
      "MoviePy - Done.\n",
      "Moviepy - Writing video output_fragment_Episode_1_fragment_17.mov\n",
      "\n"
     ]
    },
    {
     "name": "stderr",
     "output_type": "stream",
     "text": [
      "chunk:  95%|█████████▌| 91540/95874 [16:54:58<00:02, 1731.75it/s, now=None]"
     ]
    },
    {
     "name": "stdout",
     "output_type": "stream",
     "text": [
      "Moviepy - Done !\n",
      "Moviepy - video ready output_fragment_Episode_1_fragment_17.mov\n",
      "Moviepy - Building video output_fragment_Episode_1_fragment_18.mov.\n",
      "MoviePy - Writing audio in output_fragment_Episode_1_fragment_18TEMP_MPY_wvf_snd.mp3\n"
     ]
    },
    {
     "name": "stderr",
     "output_type": "stream",
     "text": [
      "chunk:  95%|█████████▌| 91540/95874 [16:54:59<00:02, 1731.75it/s, now=None]"
     ]
    },
    {
     "name": "stdout",
     "output_type": "stream",
     "text": [
      "MoviePy - Done.\n",
      "Moviepy - Writing video output_fragment_Episode_1_fragment_18.mov\n",
      "\n"
     ]
    },
    {
     "name": "stderr",
     "output_type": "stream",
     "text": [
      "chunk:  95%|█████████▌| 91540/95874 [16:55:03<00:02, 1731.75it/s, now=None]"
     ]
    },
    {
     "name": "stdout",
     "output_type": "stream",
     "text": [
      "Moviepy - Done !\n",
      "Moviepy - video ready output_fragment_Episode_1_fragment_18.mov\n",
      "Moviepy - Building video output_fragment_Episode_1_fragment_19.mov.\n",
      "MoviePy - Writing audio in output_fragment_Episode_1_fragment_19TEMP_MPY_wvf_snd.mp3\n"
     ]
    },
    {
     "name": "stderr",
     "output_type": "stream",
     "text": [
      "chunk:  95%|█████████▌| 91540/95874 [16:55:04<00:02, 1731.75it/s, now=None]"
     ]
    },
    {
     "name": "stdout",
     "output_type": "stream",
     "text": [
      "MoviePy - Done.\n",
      "Moviepy - Writing video output_fragment_Episode_1_fragment_19.mov\n",
      "\n"
     ]
    },
    {
     "name": "stderr",
     "output_type": "stream",
     "text": [
      "chunk:  95%|█████████▌| 91540/95874 [16:55:11<00:02, 1731.75it/s, now=None]"
     ]
    },
    {
     "name": "stdout",
     "output_type": "stream",
     "text": [
      "Moviepy - Done !\n",
      "Moviepy - video ready output_fragment_Episode_1_fragment_19.mov\n",
      "Moviepy - Building video output_fragment_Episode_1_fragment_20.mov.\n",
      "MoviePy - Writing audio in output_fragment_Episode_1_fragment_20TEMP_MPY_wvf_snd.mp3\n"
     ]
    },
    {
     "name": "stderr",
     "output_type": "stream",
     "text": [
      "chunk:  95%|█████████▌| 91540/95874 [16:55:12<00:02, 1731.75it/s, now=None]"
     ]
    },
    {
     "name": "stdout",
     "output_type": "stream",
     "text": [
      "MoviePy - Done.\n",
      "Moviepy - Writing video output_fragment_Episode_1_fragment_20.mov\n",
      "\n"
     ]
    },
    {
     "name": "stderr",
     "output_type": "stream",
     "text": [
      "chunk:  95%|█████████▌| 91540/95874 [16:55:17<00:02, 1731.75it/s, now=None]"
     ]
    },
    {
     "name": "stdout",
     "output_type": "stream",
     "text": [
      "Moviepy - Done !\n",
      "Moviepy - video ready output_fragment_Episode_1_fragment_20.mov\n",
      "Moviepy - Building video output_fragment_Episode_1_fragment_21.mov.\n",
      "MoviePy - Writing audio in output_fragment_Episode_1_fragment_21TEMP_MPY_wvf_snd.mp3\n"
     ]
    },
    {
     "name": "stderr",
     "output_type": "stream",
     "text": [
      "chunk:  95%|█████████▌| 91540/95874 [16:55:18<00:02, 1731.75it/s, now=None]"
     ]
    },
    {
     "name": "stdout",
     "output_type": "stream",
     "text": [
      "MoviePy - Done.\n",
      "Moviepy - Writing video output_fragment_Episode_1_fragment_21.mov\n",
      "\n"
     ]
    },
    {
     "name": "stderr",
     "output_type": "stream",
     "text": [
      "chunk:  95%|█████████▌| 91540/95874 [16:55:29<00:02, 1731.75it/s, now=None]"
     ]
    },
    {
     "name": "stdout",
     "output_type": "stream",
     "text": [
      "Moviepy - Done !\n",
      "Moviepy - video ready output_fragment_Episode_1_fragment_21.mov\n",
      "Moviepy - Building video output_fragment_Episode_1_fragment_22.mov.\n",
      "MoviePy - Writing audio in output_fragment_Episode_1_fragment_22TEMP_MPY_wvf_snd.mp3\n"
     ]
    },
    {
     "name": "stderr",
     "output_type": "stream",
     "text": [
      "chunk:  95%|█████████▌| 91540/95874 [16:55:29<00:02, 1731.75it/s, now=None]"
     ]
    },
    {
     "name": "stdout",
     "output_type": "stream",
     "text": [
      "MoviePy - Done.\n",
      "Moviepy - Writing video output_fragment_Episode_1_fragment_22.mov\n",
      "\n"
     ]
    },
    {
     "name": "stderr",
     "output_type": "stream",
     "text": [
      "chunk:  95%|█████████▌| 91540/95874 [16:55:33<00:02, 1731.75it/s, now=None]"
     ]
    },
    {
     "name": "stdout",
     "output_type": "stream",
     "text": [
      "Moviepy - Done !\n",
      "Moviepy - video ready output_fragment_Episode_1_fragment_22.mov\n",
      "Moviepy - Building video output_fragment_Episode_1_fragment_23.mov.\n",
      "MoviePy - Writing audio in output_fragment_Episode_1_fragment_23TEMP_MPY_wvf_snd.mp3\n"
     ]
    },
    {
     "name": "stderr",
     "output_type": "stream",
     "text": [
      "chunk:  95%|█████████▌| 91540/95874 [16:55:35<00:02, 1731.75it/s, now=None]"
     ]
    },
    {
     "name": "stdout",
     "output_type": "stream",
     "text": [
      "MoviePy - Done.\n",
      "Moviepy - Writing video output_fragment_Episode_1_fragment_23.mov\n",
      "\n"
     ]
    },
    {
     "name": "stderr",
     "output_type": "stream",
     "text": [
      "chunk:  95%|█████████▌| 91540/95874 [16:55:52<00:02, 1731.75it/s, now=None]"
     ]
    },
    {
     "name": "stdout",
     "output_type": "stream",
     "text": [
      "Moviepy - Done !\n",
      "Moviepy - video ready output_fragment_Episode_1_fragment_23.mov\n",
      "Moviepy - Building video output_fragment_Episode_1_fragment_24.mov.\n",
      "MoviePy - Writing audio in output_fragment_Episode_1_fragment_24TEMP_MPY_wvf_snd.mp3\n"
     ]
    },
    {
     "name": "stderr",
     "output_type": "stream",
     "text": [
      "chunk:  95%|█████████▌| 91540/95874 [16:55:53<00:02, 1731.75it/s, now=None]"
     ]
    },
    {
     "name": "stdout",
     "output_type": "stream",
     "text": [
      "MoviePy - Done.\n",
      "Moviepy - Writing video output_fragment_Episode_1_fragment_24.mov\n",
      "\n"
     ]
    },
    {
     "name": "stderr",
     "output_type": "stream",
     "text": [
      "chunk:  95%|█████████▌| 91540/95874 [16:55:58<00:02, 1731.75it/s, now=None]"
     ]
    },
    {
     "name": "stdout",
     "output_type": "stream",
     "text": [
      "Moviepy - Done !\n",
      "Moviepy - video ready output_fragment_Episode_1_fragment_24.mov\n",
      "Moviepy - Building video output_fragment_Episode_1_fragment_25.mov.\n",
      "MoviePy - Writing audio in output_fragment_Episode_1_fragment_25TEMP_MPY_wvf_snd.mp3\n"
     ]
    },
    {
     "name": "stderr",
     "output_type": "stream",
     "text": [
      "chunk:  95%|█████████▌| 91540/95874 [16:55:58<00:02, 1731.75it/s, now=None]"
     ]
    },
    {
     "name": "stdout",
     "output_type": "stream",
     "text": [
      "MoviePy - Done.\n",
      "Moviepy - Writing video output_fragment_Episode_1_fragment_25.mov\n",
      "\n"
     ]
    },
    {
     "name": "stderr",
     "output_type": "stream",
     "text": [
      "chunk:  95%|█████████▌| 91540/95874 [16:56:03<00:02, 1731.75it/s, now=None]"
     ]
    },
    {
     "name": "stdout",
     "output_type": "stream",
     "text": [
      "Moviepy - Done !\n",
      "Moviepy - video ready output_fragment_Episode_1_fragment_25.mov\n",
      "Moviepy - Building video output_fragment_Episode_1_fragment_26.mov.\n",
      "MoviePy - Writing audio in output_fragment_Episode_1_fragment_26TEMP_MPY_wvf_snd.mp3\n"
     ]
    },
    {
     "name": "stderr",
     "output_type": "stream",
     "text": [
      "chunk:  95%|█████████▌| 91540/95874 [16:56:04<00:02, 1731.75it/s, now=None]"
     ]
    },
    {
     "name": "stdout",
     "output_type": "stream",
     "text": [
      "MoviePy - Done.\n",
      "Moviepy - Writing video output_fragment_Episode_1_fragment_26.mov\n",
      "\n"
     ]
    },
    {
     "name": "stderr",
     "output_type": "stream",
     "text": []
    }
   ],
   "source": [
    "import pandas as pd\n",
    "from moviepy.editor import VideoFileClip\n",
    "\n",
    "def split_video(input_video,episode, output, df):\n",
    "    video = VideoFileClip(input_video)\n",
    "    episode_df = df[df['Episode name'] == episode]\n",
    "\n",
    "    for index, row in episode_df.iterrows():\n",
    "            start_time = row['Start Time (seconds)']\n",
    "            end_time = row['End Time (seconds)']\n",
    "            fragment = video.subclip(start_time, end_time)\n",
    "            fragment_name = f\"Episode_{episode}_fragment_{index}.mov\"\n",
    "            fragment.write_videofile(f\"{output}_{fragment_name}\", codec=\"libx264\")\n",
    "\n",
    "    video.close()\n",
    "\n",
    "\n",
    "video_file = \"ER22_AFL01_MXF.mov\"\n",
    "output = \"output_fragment\"\n",
    "df = pd.read_csv(f'data\\data_banijay\\processed\\Robinson22_structure_cleaned.csv')\n",
    "\n",
    "split_video(video_file,1, output, df)\n"
   ]
  }
 ],
 "metadata": {
  "language_info": {
   "name": "python"
  }
 },
 "nbformat": 4,
 "nbformat_minor": 2
}
