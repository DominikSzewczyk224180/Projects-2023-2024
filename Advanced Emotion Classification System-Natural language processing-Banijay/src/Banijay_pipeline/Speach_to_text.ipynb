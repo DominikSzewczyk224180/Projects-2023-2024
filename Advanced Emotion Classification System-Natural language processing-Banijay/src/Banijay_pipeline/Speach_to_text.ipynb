{
 "cells": [
  {
   "cell_type": "code",
   "execution_count": 2,
   "metadata": {},
   "outputs": [
    {
     "name": "stdout",
     "output_type": "stream",
     "text": [
      "Processing: C:\\Users\\domin\\Desktop\\Year 2 Block C\\2023-24c-fai2-adsai-DominikSzewczyk224180\\Natural Language procesing\\Text_to_speach\\video\\output_fragment_Episode_1_fragment_0.mov\n",
      "MoviePy - Writing audio in output_audio.wav\n"
     ]
    },
    {
     "name": "stderr",
     "output_type": "stream",
     "text": [
      "                                                                      \r"
     ]
    },
    {
     "name": "stdout",
     "output_type": "stream",
     "text": [
      "MoviePy - Done.\n",
      "Processing: C:\\Users\\domin\\Desktop\\Year 2 Block C\\2023-24c-fai2-adsai-DominikSzewczyk224180\\Natural Language procesing\\Text_to_speach\\video\\output_fragment_Episode_1_fragment_12.mov\n",
      "MoviePy - Writing audio in output_audio.wav\n"
     ]
    },
    {
     "name": "stderr",
     "output_type": "stream",
     "text": [
      "                                                                      \r"
     ]
    },
    {
     "name": "stdout",
     "output_type": "stream",
     "text": [
      "MoviePy - Done.\n",
      "Processing: C:\\Users\\domin\\Desktop\\Year 2 Block C\\2023-24c-fai2-adsai-DominikSzewczyk224180\\Natural Language procesing\\Text_to_speach\\video\\output_fragment_Episode_1_fragment_14.mov\n",
      "MoviePy - Writing audio in output_audio.wav\n"
     ]
    },
    {
     "name": "stderr",
     "output_type": "stream",
     "text": [
      "                                                                     \r"
     ]
    },
    {
     "name": "stdout",
     "output_type": "stream",
     "text": [
      "MoviePy - Done.\n",
      "Processing: C:\\Users\\domin\\Desktop\\Year 2 Block C\\2023-24c-fai2-adsai-DominikSzewczyk224180\\Natural Language procesing\\Text_to_speach\\video\\output_fragment_Episode_1_fragment_29.mov\n",
      "MoviePy - Writing audio in output_audio.wav\n"
     ]
    },
    {
     "name": "stderr",
     "output_type": "stream",
     "text": [
      "                                                                    \r"
     ]
    },
    {
     "name": "stdout",
     "output_type": "stream",
     "text": [
      "MoviePy - Done.\n",
      "Processing: C:\\Users\\domin\\Desktop\\Year 2 Block C\\2023-24c-fai2-adsai-DominikSzewczyk224180\\Natural Language procesing\\Text_to_speach\\video\\output_fragment_Episode_1_fragment_45.mov\n",
      "MoviePy - Writing audio in output_audio.wav\n"
     ]
    },
    {
     "name": "stderr",
     "output_type": "stream",
     "text": [
      "                                                                    "
     ]
    },
    {
     "name": "stdout",
     "output_type": "stream",
     "text": [
      "MoviePy - Done.\n"
     ]
    },
    {
     "name": "stderr",
     "output_type": "stream",
     "text": [
      "\r"
     ]
    }
   ],
   "source": [
    "import os\n",
    "import pandas as pd\n",
    "import speech_recognition as sr\n",
    "from moviepy.editor import *\n",
    "\n",
    "def transcribe_video_audio(video_file):\n",
    "    \n",
    "    output_file = \"output_audio.wav\"\n",
    "    video = VideoFileClip(video_file)\n",
    "    audio = video.audio\n",
    "    audio.write_audiofile(output_file)\n",
    "\n",
    "    \n",
    "    with sr.AudioFile(output_file) as source:\n",
    "        audio_data = recognizer.record(source)\n",
    "\n",
    "    \n",
    "    try:\n",
    "        text = recognizer.recognize_google(audio_data, language='nl-NL')  \n",
    "        return text\n",
    "    except sr.UnknownValueError:\n",
    "        return \"Could not understand audio\"\n",
    "    except sr.RequestError as e:\n",
    "        return \"Could not request results; {0}\".format(e)\n",
    "\n",
    "recognizer = sr.Recognizer()\n",
    "\n",
    "video_folder = r\"C:\\Users\\domin\\Desktop\\Year 2 Block C\\2023-24c-fai2-adsai-DominikSzewczyk224180\\Natural Language procesing\\Text_to_speach\\video\" # folder with audio fragments\n",
    "\n",
    "transcription_list = []\n",
    "\n",
    "for filename in os.listdir(video_folder):\n",
    "    if filename.endswith(\".mov\"):\n",
    "        episode, fragment = filename.split(\"_\")[-2], filename.split(\"_\")[-1].split(\".\")[0]\n",
    "        video_file = os.path.join(video_folder, filename)\n",
    "        print(\"Processing:\", video_file)\n",
    "        text = transcribe_video_audio(video_file)\n",
    "\n",
    "        if \"Could not request results\" in text:\n",
    "            midpoint = len(fragment) // 2\n",
    "            part1, part2 = fragment[:midpoint], fragment[midpoint:]\n",
    "            \n",
    "            text1 = transcribe_video_audio(video_file)\n",
    "            text2 = transcribe_video_audio(video_file)\n",
    "            \n",
    "            text = text1 + text2\n",
    "\n",
    "\n",
    "        transcription_list.append({\"Episode\": episode, \"Fragment\": fragment, \"Text\": text})\n",
    "\n",
    "transcription_df = pd.DataFrame(transcription_list)\n",
    "\n",
    "transcription_df.to_csv(\"transcription_results.csv\", index=False)\n"
   ]
  }
 ],
 "metadata": {
  "kernelspec": {
   "display_name": "tf",
   "language": "python",
   "name": "python3"
  },
  "language_info": {
   "codemirror_mode": {
    "name": "ipython",
    "version": 3
   },
   "file_extension": ".py",
   "mimetype": "text/x-python",
   "name": "python",
   "nbconvert_exporter": "python",
   "pygments_lexer": "ipython3",
   "version": "3.9.16"
  }
 },
 "nbformat": 4,
 "nbformat_minor": 2
}
