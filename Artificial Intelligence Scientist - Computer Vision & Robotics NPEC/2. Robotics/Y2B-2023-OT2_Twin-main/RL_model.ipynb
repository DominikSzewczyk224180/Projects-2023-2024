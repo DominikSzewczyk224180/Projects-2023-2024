{
 "cells": [
  {
   "cell_type": "code",
   "execution_count": 1,
   "metadata": {},
   "outputs": [],
   "source": [
    "import gymnasium as gym\n",
    "import stable_baselines3 as sb3\n",
    "from stable_baselines3 import PPO  \n",
    "import wandb\n",
    "from wandb.integration.sb3 import WandbCallback\n",
    "from ot2_gym_wrapper import OT2Env\n"
   ]
  },
  {
   "cell_type": "code",
   "execution_count": 2,
   "metadata": {},
   "outputs": [],
   "source": [
    "env = OT2Env()"
   ]
  },
  {
   "cell_type": "code",
   "execution_count": 3,
   "metadata": {},
   "outputs": [],
   "source": [
    "# render = 'False'"
   ]
  },
  {
   "cell_type": "code",
   "execution_count": 4,
   "metadata": {},
   "outputs": [
    {
     "name": "stdout",
     "output_type": "stream",
     "text": [
      "Using cpu device\n",
      "Wrapping the env with a `Monitor` wrapper\n",
      "Wrapping the env in a DummyVecEnv.\n"
     ]
    }
   ],
   "source": [
    "hyperparameters = {\n",
    "    'n_steps': 2048,\n",
    "    'batch_size': 64,\n",
    "    'gamma': 0.99,\n",
    "    'learning_rate': 0.00025,\n",
    "    'ent_coef': 0.01,\n",
    "    'vf_coef': 0.5,\n",
    "    'max_grad_norm': 0.5,\n",
    "    'gae_lambda': 0.95,\n",
    "    'n_epochs': 4,\n",
    "    'clip_range': 0.2,\n",
    "    'clip_range_vf': None,\n",
    "    'verbose': 1,\n",
    "}\n",
    "\n",
    "\n",
    "model = PPO(\"MlpPolicy\", env, **hyperparameters)"
   ]
  },
  {
   "cell_type": "code",
   "execution_count": 5,
   "metadata": {},
   "outputs": [],
   "source": [
    "#wandb login"
   ]
  },
  {
   "cell_type": "code",
   "execution_count": 6,
   "metadata": {},
   "outputs": [
    {
     "name": "stderr",
     "output_type": "stream",
     "text": [
      "Failed to detect the name of this notebook, you can set it manually with the WANDB_NOTEBOOK_NAME environment variable to enable code saving.\n",
      "\u001b[34m\u001b[1mwandb\u001b[0m: Currently logged in as: \u001b[33m224180\u001b[0m (\u001b[33mbuas_blockb\u001b[0m). Use \u001b[1m`wandb login --relogin`\u001b[0m to force relogin\n"
     ]
    },
    {
     "data": {
      "text/html": [
       "Tracking run with wandb version 0.16.2"
      ],
      "text/plain": [
       "<IPython.core.display.HTML object>"
      ]
     },
     "metadata": {},
     "output_type": "display_data"
    },
    {
     "data": {
      "text/html": [
       "Run data is saved locally in <code>C:\\Users\\domin\\Desktop\\Year 2 Block B\\2023-24b-fai2-adsai-DominikSzewczyk224180\\2. Robotics\\Y2B-2023-OT2_Twin-main\\wandb\\run-20240115_170741-ln1dqieh</code>"
      ],
      "text/plain": [
       "<IPython.core.display.HTML object>"
      ]
     },
     "metadata": {},
     "output_type": "display_data"
    },
    {
     "data": {
      "text/html": [
       "Syncing run <strong><a href='https://wandb.ai/buas_blockb/project/runs/ln1dqieh' target=\"_blank\">smart-microwave-31</a></strong> to <a href='https://wandb.ai/buas_blockb/project' target=\"_blank\">Weights & Biases</a> (<a href='https://wandb.me/run' target=\"_blank\">docs</a>)<br/>"
      ],
      "text/plain": [
       "<IPython.core.display.HTML object>"
      ]
     },
     "metadata": {},
     "output_type": "display_data"
    },
    {
     "data": {
      "text/html": [
       " View project at <a href='https://wandb.ai/buas_blockb/project' target=\"_blank\">https://wandb.ai/buas_blockb/project</a>"
      ],
      "text/plain": [
       "<IPython.core.display.HTML object>"
      ]
     },
     "metadata": {},
     "output_type": "display_data"
    },
    {
     "data": {
      "text/html": [
       " View run at <a href='https://wandb.ai/buas_blockb/project/runs/ln1dqieh' target=\"_blank\">https://wandb.ai/buas_blockb/project/runs/ln1dqieh</a>"
      ],
      "text/plain": [
       "<IPython.core.display.HTML object>"
      ]
     },
     "metadata": {},
     "output_type": "display_data"
    },
    {
     "data": {
      "text/html": [
       "<button onClick=\"this.nextSibling.style.display='block';this.style.display='none';\">Display W&B run</button><iframe src='https://wandb.ai/buas_blockb/project/runs/ln1dqieh?jupyter=true' style='border:none;width:100%;height:420px;display:none;'></iframe>"
      ],
      "text/plain": [
       "<wandb.sdk.wandb_run.Run at 0x21a2d900af0>"
      ]
     },
     "execution_count": 6,
     "metadata": {},
     "output_type": "execute_result"
    }
   ],
   "source": [
    "wandb.init(project=\"project\", config=hyperparameters)"
   ]
  },
  {
   "cell_type": "code",
   "execution_count": 7,
   "metadata": {},
   "outputs": [
    {
     "name": "stdout",
     "output_type": "stream",
     "text": [
      "---------------------------------\n",
      "| rollout/           |          |\n",
      "|    ep_len_mean     | 1e+03    |\n",
      "|    ep_rew_mean     | -248     |\n",
      "| time/              |          |\n",
      "|    fps             | 1469     |\n",
      "|    iterations      | 1        |\n",
      "|    time_elapsed    | 1        |\n",
      "|    total_timesteps | 2048     |\n",
      "---------------------------------\n",
      "----------------------------------------\n",
      "| rollout/                |            |\n",
      "|    ep_len_mean          | 1e+03      |\n",
      "|    ep_rew_mean          | -250       |\n",
      "| time/                   |            |\n",
      "|    fps                  | 1468       |\n",
      "|    iterations           | 2          |\n",
      "|    time_elapsed         | 2          |\n",
      "|    total_timesteps      | 4096       |\n",
      "| train/                  |            |\n",
      "|    approx_kl            | 0.00177893 |\n",
      "|    clip_fraction        | 0.000854   |\n",
      "|    clip_range           | 0.2        |\n",
      "|    entropy_loss         | -4.26      |\n",
      "|    explained_variance   | 0.0297     |\n",
      "|    learning_rate        | 0.00025    |\n",
      "|    loss                 | 2.81       |\n",
      "|    n_updates            | 4          |\n",
      "|    policy_gradient_loss | -0.00162   |\n",
      "|    std                  | 1          |\n",
      "|    value_loss           | 13.1       |\n",
      "----------------------------------------\n",
      "------------------------------------------\n",
      "| rollout/                |              |\n",
      "|    ep_len_mean          | 1e+03        |\n",
      "|    ep_rew_mean          | -239         |\n",
      "| time/                   |              |\n",
      "|    fps                  | 1479         |\n",
      "|    iterations           | 3            |\n",
      "|    time_elapsed         | 4            |\n",
      "|    total_timesteps      | 6144         |\n",
      "| train/                  |              |\n",
      "|    approx_kl            | 0.0043516806 |\n",
      "|    clip_fraction        | 0.0107       |\n",
      "|    clip_range           | 0.2          |\n",
      "|    entropy_loss         | -4.27        |\n",
      "|    explained_variance   | 0.0716       |\n",
      "|    learning_rate        | 0.00025      |\n",
      "|    loss                 | 0.341        |\n",
      "|    n_updates            | 8            |\n",
      "|    policy_gradient_loss | -0.00217     |\n",
      "|    std                  | 1            |\n",
      "|    value_loss           | 6.43         |\n",
      "------------------------------------------\n",
      "-----------------------------------------\n",
      "| rollout/                |             |\n",
      "|    ep_len_mean          | 1e+03       |\n",
      "|    ep_rew_mean          | -236        |\n",
      "| time/                   |             |\n",
      "|    fps                  | 1490        |\n",
      "|    iterations           | 4           |\n",
      "|    time_elapsed         | 5           |\n",
      "|    total_timesteps      | 8192        |\n",
      "| train/                  |             |\n",
      "|    approx_kl            | 0.006457161 |\n",
      "|    clip_fraction        | 0.0186      |\n",
      "|    clip_range           | 0.2         |\n",
      "|    entropy_loss         | -4.26       |\n",
      "|    explained_variance   | 0.33        |\n",
      "|    learning_rate        | 0.00025     |\n",
      "|    loss                 | 0.452       |\n",
      "|    n_updates            | 12          |\n",
      "|    policy_gradient_loss | -0.000869   |\n",
      "|    std                  | 1           |\n",
      "|    value_loss           | 2.7         |\n",
      "-----------------------------------------\n",
      "------------------------------------------\n",
      "| rollout/                |              |\n",
      "|    ep_len_mean          | 1e+03        |\n",
      "|    ep_rew_mean          | -241         |\n",
      "| time/                   |              |\n",
      "|    fps                  | 1457         |\n",
      "|    iterations           | 5            |\n",
      "|    time_elapsed         | 7            |\n",
      "|    total_timesteps      | 10240        |\n",
      "| train/                  |              |\n",
      "|    approx_kl            | 0.0022692205 |\n",
      "|    clip_fraction        | 0.00208      |\n",
      "|    clip_range           | 0.2          |\n",
      "|    entropy_loss         | -4.27        |\n",
      "|    explained_variance   | -0.801       |\n",
      "|    learning_rate        | 0.00025      |\n",
      "|    loss                 | 1.11         |\n",
      "|    n_updates            | 16           |\n",
      "|    policy_gradient_loss | -0.000489    |\n",
      "|    std                  | 1            |\n",
      "|    value_loss           | 5.97         |\n",
      "------------------------------------------\n"
     ]
    },
    {
     "data": {
      "text/plain": [
       "<stable_baselines3.ppo.ppo.PPO at 0x21a1bef8070>"
      ]
     },
     "execution_count": 7,
     "metadata": {},
     "output_type": "execute_result"
    }
   ],
   "source": [
    "# Train the model\n",
    "model.learn(total_timesteps=10000, callback=WandbCallback())\n"
   ]
  },
  {
   "cell_type": "code",
   "execution_count": 8,
   "metadata": {},
   "outputs": [],
   "source": [
    "model.save(\"trained_model\")"
   ]
  },
  {
   "cell_type": "code",
   "execution_count": 9,
   "metadata": {},
   "outputs": [],
   "source": [
    "def train():\n",
    "\n",
    "    loss = 0.5\n",
    "    accuracy = 0.9\n",
    "    return loss, accuracy"
   ]
  },
  {
   "cell_type": "code",
   "execution_count": 10,
   "metadata": {},
   "outputs": [
    {
     "data": {
      "text/html": [
       "Finishing last run (ID:ln1dqieh) before initializing another..."
      ],
      "text/plain": [
       "<IPython.core.display.HTML object>"
      ]
     },
     "metadata": {},
     "output_type": "display_data"
    },
    {
     "data": {
      "application/vnd.jupyter.widget-view+json": {
       "model_id": "6b9609b8b444452c90de95691801b3e1",
       "version_major": 2,
       "version_minor": 0
      },
      "text/plain": [
       "VBox(children=(Label(value='0.001 MB of 0.001 MB uploaded\\r'), FloatProgress(value=1.0, max=1.0)))"
      ]
     },
     "metadata": {},
     "output_type": "display_data"
    },
    {
     "data": {
      "text/html": [
       " View run <strong style=\"color:#cdcd00\">smart-microwave-31</strong> at: <a href='https://wandb.ai/buas_blockb/project/runs/ln1dqieh' target=\"_blank\">https://wandb.ai/buas_blockb/project/runs/ln1dqieh</a><br/>Synced 5 W&B file(s), 0 media file(s), 0 artifact file(s) and 0 other file(s)"
      ],
      "text/plain": [
       "<IPython.core.display.HTML object>"
      ]
     },
     "metadata": {},
     "output_type": "display_data"
    },
    {
     "data": {
      "text/html": [
       "Find logs at: <code>.\\wandb\\run-20240115_170741-ln1dqieh\\logs</code>"
      ],
      "text/plain": [
       "<IPython.core.display.HTML object>"
      ]
     },
     "metadata": {},
     "output_type": "display_data"
    },
    {
     "data": {
      "text/html": [
       "Successfully finished last run (ID:ln1dqieh). Initializing new run:<br/>"
      ],
      "text/plain": [
       "<IPython.core.display.HTML object>"
      ]
     },
     "metadata": {},
     "output_type": "display_data"
    },
    {
     "data": {
      "application/vnd.jupyter.widget-view+json": {
       "model_id": "c777b919d9ed4f44b62a57e4ccb2b1ab",
       "version_major": 2,
       "version_minor": 0
      },
      "text/plain": [
       "VBox(children=(Label(value='Waiting for wandb.init()...\\r'), FloatProgress(value=0.011111111111111112, max=1.0…"
      ]
     },
     "metadata": {},
     "output_type": "display_data"
    },
    {
     "data": {
      "text/html": [
       "Tracking run with wandb version 0.16.2"
      ],
      "text/plain": [
       "<IPython.core.display.HTML object>"
      ]
     },
     "metadata": {},
     "output_type": "display_data"
    },
    {
     "data": {
      "text/html": [
       "Run data is saved locally in <code>C:\\Users\\domin\\Desktop\\Year 2 Block B\\2023-24b-fai2-adsai-DominikSzewczyk224180\\2. Robotics\\Y2B-2023-OT2_Twin-main\\wandb\\run-20240115_170750-vg22q1fb</code>"
      ],
      "text/plain": [
       "<IPython.core.display.HTML object>"
      ]
     },
     "metadata": {},
     "output_type": "display_data"
    },
    {
     "data": {
      "text/html": [
       "Syncing run <strong><a href='https://wandb.ai/buas_blockb/2023-24b-fai2-adsai-DominikSzewczyk224180-2.%20Robotics_Y2B-2023-OT2_Twin-main/runs/vg22q1fb' target=\"_blank\">twilight-serenity-8</a></strong> to <a href='https://wandb.ai/buas_blockb/2023-24b-fai2-adsai-DominikSzewczyk224180-2.%20Robotics_Y2B-2023-OT2_Twin-main' target=\"_blank\">Weights & Biases</a> (<a href='https://wandb.me/run' target=\"_blank\">docs</a>)<br/>"
      ],
      "text/plain": [
       "<IPython.core.display.HTML object>"
      ]
     },
     "metadata": {},
     "output_type": "display_data"
    },
    {
     "data": {
      "text/html": [
       " View project at <a href='https://wandb.ai/buas_blockb/2023-24b-fai2-adsai-DominikSzewczyk224180-2.%20Robotics_Y2B-2023-OT2_Twin-main' target=\"_blank\">https://wandb.ai/buas_blockb/2023-24b-fai2-adsai-DominikSzewczyk224180-2.%20Robotics_Y2B-2023-OT2_Twin-main</a>"
      ],
      "text/plain": [
       "<IPython.core.display.HTML object>"
      ]
     },
     "metadata": {},
     "output_type": "display_data"
    },
    {
     "data": {
      "text/html": [
       " View run at <a href='https://wandb.ai/buas_blockb/2023-24b-fai2-adsai-DominikSzewczyk224180-2.%20Robotics_Y2B-2023-OT2_Twin-main/runs/vg22q1fb' target=\"_blank\">https://wandb.ai/buas_blockb/2023-24b-fai2-adsai-DominikSzewczyk224180-2.%20Robotics_Y2B-2023-OT2_Twin-main/runs/vg22q1fb</a>"
      ],
      "text/plain": [
       "<IPython.core.display.HTML object>"
      ]
     },
     "metadata": {},
     "output_type": "display_data"
    }
   ],
   "source": [
    "wandb.init(config={\"epochs\": 10, \"learning_rate\": 0.001})\n",
    "\n",
    "for epoch in range(wandb.config.epochs):\n",
    "    loss, accuracy = train()  # replace with your training function\n",
    "    wandb.log({\"epoch\": epoch, \"loss\": loss, \"accuracy\": accuracy})"
   ]
  }
 ],
 "metadata": {
  "kernelspec": {
   "display_name": "tf",
   "language": "python",
   "name": "python3"
  },
  "language_info": {
   "codemirror_mode": {
    "name": "ipython",
    "version": 3
   },
   "file_extension": ".py",
   "mimetype": "text/x-python",
   "name": "python",
   "nbconvert_exporter": "python",
   "pygments_lexer": "ipython3",
   "version": "3.9.16"
  }
 },
 "nbformat": 4,
 "nbformat_minor": 2
}
